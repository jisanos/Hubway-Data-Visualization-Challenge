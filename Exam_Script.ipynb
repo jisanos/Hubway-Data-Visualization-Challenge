{
 "cells": [
  {
   "cell_type": "code",
   "execution_count": 1,
   "metadata": {},
   "outputs": [],
   "source": [
    "import pandas as pd\n",
    "import numpy as np\n",
    "import seaborn as sns\n",
    "import matplotlib.pyplot as plt\n",
    "import datetime as dt\n",
    "\n",
    "Stations = pd.read_csv('hubway_stations.csv')"
   ]
  },
  {
   "cell_type": "code",
   "execution_count": 2,
   "metadata": {},
   "outputs": [
    {
     "data": {
      "text/html": [
       "<div>\n",
       "<style scoped>\n",
       "    .dataframe tbody tr th:only-of-type {\n",
       "        vertical-align: middle;\n",
       "    }\n",
       "\n",
       "    .dataframe tbody tr th {\n",
       "        vertical-align: top;\n",
       "    }\n",
       "\n",
       "    .dataframe thead th {\n",
       "        text-align: right;\n",
       "    }\n",
       "</style>\n",
       "<table border=\"1\" class=\"dataframe\">\n",
       "  <thead>\n",
       "    <tr style=\"text-align: right;\">\n",
       "      <th></th>\n",
       "      <th>id</th>\n",
       "      <th>terminal</th>\n",
       "      <th>station</th>\n",
       "      <th>municipal</th>\n",
       "      <th>lat</th>\n",
       "      <th>lng</th>\n",
       "      <th>status</th>\n",
       "    </tr>\n",
       "  </thead>\n",
       "  <tbody>\n",
       "    <tr>\n",
       "      <th>0</th>\n",
       "      <td>3</td>\n",
       "      <td>B32006</td>\n",
       "      <td>Colleges of the Fenway</td>\n",
       "      <td>Boston</td>\n",
       "      <td>42.340021</td>\n",
       "      <td>-71.100812</td>\n",
       "      <td>Existing</td>\n",
       "    </tr>\n",
       "    <tr>\n",
       "      <th>1</th>\n",
       "      <td>4</td>\n",
       "      <td>C32000</td>\n",
       "      <td>Tremont St. at Berkeley St.</td>\n",
       "      <td>Boston</td>\n",
       "      <td>42.345392</td>\n",
       "      <td>-71.069616</td>\n",
       "      <td>Existing</td>\n",
       "    </tr>\n",
       "    <tr>\n",
       "      <th>2</th>\n",
       "      <td>5</td>\n",
       "      <td>B32012</td>\n",
       "      <td>Northeastern U / North Parking Lot</td>\n",
       "      <td>Boston</td>\n",
       "      <td>42.341814</td>\n",
       "      <td>-71.090179</td>\n",
       "      <td>Existing</td>\n",
       "    </tr>\n",
       "    <tr>\n",
       "      <th>3</th>\n",
       "      <td>6</td>\n",
       "      <td>D32000</td>\n",
       "      <td>Cambridge St. at Joy St.</td>\n",
       "      <td>Boston</td>\n",
       "      <td>42.361285</td>\n",
       "      <td>-71.065140</td>\n",
       "      <td>Existing</td>\n",
       "    </tr>\n",
       "    <tr>\n",
       "      <th>4</th>\n",
       "      <td>7</td>\n",
       "      <td>A32000</td>\n",
       "      <td>Fan Pier</td>\n",
       "      <td>Boston</td>\n",
       "      <td>42.353412</td>\n",
       "      <td>-71.044624</td>\n",
       "      <td>Existing</td>\n",
       "    </tr>\n",
       "  </tbody>\n",
       "</table>\n",
       "</div>"
      ],
      "text/plain": [
       "   id terminal                             station municipal        lat  \\\n",
       "0   3   B32006              Colleges of the Fenway    Boston  42.340021   \n",
       "1   4   C32000         Tremont St. at Berkeley St.    Boston  42.345392   \n",
       "2   5   B32012  Northeastern U / North Parking Lot    Boston  42.341814   \n",
       "3   6   D32000            Cambridge St. at Joy St.    Boston  42.361285   \n",
       "4   7   A32000                            Fan Pier    Boston  42.353412   \n",
       "\n",
       "         lng    status  \n",
       "0 -71.100812  Existing  \n",
       "1 -71.069616  Existing  \n",
       "2 -71.090179  Existing  \n",
       "3 -71.065140  Existing  \n",
       "4 -71.044624  Existing  "
      ]
     },
     "execution_count": 2,
     "metadata": {},
     "output_type": "execute_result"
    }
   ],
   "source": [
    "Stations.head()"
   ]
  },
  {
   "cell_type": "code",
   "execution_count": 3,
   "metadata": {},
   "outputs": [],
   "source": [
    "Trips = pd.read_csv('hubway_trips.csv')"
   ]
  },
  {
   "cell_type": "code",
   "execution_count": 4,
   "metadata": {},
   "outputs": [
    {
     "data": {
      "text/html": [
       "<div>\n",
       "<style scoped>\n",
       "    .dataframe tbody tr th:only-of-type {\n",
       "        vertical-align: middle;\n",
       "    }\n",
       "\n",
       "    .dataframe tbody tr th {\n",
       "        vertical-align: top;\n",
       "    }\n",
       "\n",
       "    .dataframe thead th {\n",
       "        text-align: right;\n",
       "    }\n",
       "</style>\n",
       "<table border=\"1\" class=\"dataframe\">\n",
       "  <thead>\n",
       "    <tr style=\"text-align: right;\">\n",
       "      <th></th>\n",
       "      <th>seq_id</th>\n",
       "      <th>hubway_id</th>\n",
       "      <th>status</th>\n",
       "      <th>duration</th>\n",
       "      <th>start_date</th>\n",
       "      <th>strt_statn</th>\n",
       "      <th>end_date</th>\n",
       "      <th>end_statn</th>\n",
       "      <th>bike_nr</th>\n",
       "      <th>subsc_type</th>\n",
       "      <th>zip_code</th>\n",
       "      <th>birth_date</th>\n",
       "      <th>gender</th>\n",
       "    </tr>\n",
       "  </thead>\n",
       "  <tbody>\n",
       "    <tr>\n",
       "      <th>0</th>\n",
       "      <td>1</td>\n",
       "      <td>8</td>\n",
       "      <td>Closed</td>\n",
       "      <td>9</td>\n",
       "      <td>7/28/2011 10:12:00</td>\n",
       "      <td>23.0</td>\n",
       "      <td>7/28/2011 10:12:00</td>\n",
       "      <td>23.0</td>\n",
       "      <td>B00468</td>\n",
       "      <td>Registered</td>\n",
       "      <td>'97217</td>\n",
       "      <td>1976.0</td>\n",
       "      <td>Male</td>\n",
       "    </tr>\n",
       "    <tr>\n",
       "      <th>1</th>\n",
       "      <td>2</td>\n",
       "      <td>9</td>\n",
       "      <td>Closed</td>\n",
       "      <td>220</td>\n",
       "      <td>7/28/2011 10:21:00</td>\n",
       "      <td>23.0</td>\n",
       "      <td>7/28/2011 10:25:00</td>\n",
       "      <td>23.0</td>\n",
       "      <td>B00554</td>\n",
       "      <td>Registered</td>\n",
       "      <td>'02215</td>\n",
       "      <td>1966.0</td>\n",
       "      <td>Male</td>\n",
       "    </tr>\n",
       "    <tr>\n",
       "      <th>2</th>\n",
       "      <td>3</td>\n",
       "      <td>10</td>\n",
       "      <td>Closed</td>\n",
       "      <td>56</td>\n",
       "      <td>7/28/2011 10:33:00</td>\n",
       "      <td>23.0</td>\n",
       "      <td>7/28/2011 10:34:00</td>\n",
       "      <td>23.0</td>\n",
       "      <td>B00456</td>\n",
       "      <td>Registered</td>\n",
       "      <td>'02108</td>\n",
       "      <td>1943.0</td>\n",
       "      <td>Male</td>\n",
       "    </tr>\n",
       "    <tr>\n",
       "      <th>3</th>\n",
       "      <td>4</td>\n",
       "      <td>11</td>\n",
       "      <td>Closed</td>\n",
       "      <td>64</td>\n",
       "      <td>7/28/2011 10:35:00</td>\n",
       "      <td>23.0</td>\n",
       "      <td>7/28/2011 10:36:00</td>\n",
       "      <td>23.0</td>\n",
       "      <td>B00554</td>\n",
       "      <td>Registered</td>\n",
       "      <td>'02116</td>\n",
       "      <td>1981.0</td>\n",
       "      <td>Female</td>\n",
       "    </tr>\n",
       "    <tr>\n",
       "      <th>4</th>\n",
       "      <td>5</td>\n",
       "      <td>12</td>\n",
       "      <td>Closed</td>\n",
       "      <td>12</td>\n",
       "      <td>7/28/2011 10:37:00</td>\n",
       "      <td>23.0</td>\n",
       "      <td>7/28/2011 10:37:00</td>\n",
       "      <td>23.0</td>\n",
       "      <td>B00554</td>\n",
       "      <td>Registered</td>\n",
       "      <td>'97214</td>\n",
       "      <td>1983.0</td>\n",
       "      <td>Female</td>\n",
       "    </tr>\n",
       "  </tbody>\n",
       "</table>\n",
       "</div>"
      ],
      "text/plain": [
       "   seq_id  hubway_id  status  duration          start_date  strt_statn  \\\n",
       "0       1          8  Closed         9  7/28/2011 10:12:00        23.0   \n",
       "1       2          9  Closed       220  7/28/2011 10:21:00        23.0   \n",
       "2       3         10  Closed        56  7/28/2011 10:33:00        23.0   \n",
       "3       4         11  Closed        64  7/28/2011 10:35:00        23.0   \n",
       "4       5         12  Closed        12  7/28/2011 10:37:00        23.0   \n",
       "\n",
       "             end_date  end_statn bike_nr  subsc_type zip_code  birth_date  \\\n",
       "0  7/28/2011 10:12:00       23.0  B00468  Registered   '97217      1976.0   \n",
       "1  7/28/2011 10:25:00       23.0  B00554  Registered   '02215      1966.0   \n",
       "2  7/28/2011 10:34:00       23.0  B00456  Registered   '02108      1943.0   \n",
       "3  7/28/2011 10:36:00       23.0  B00554  Registered   '02116      1981.0   \n",
       "4  7/28/2011 10:37:00       23.0  B00554  Registered   '97214      1983.0   \n",
       "\n",
       "   gender  \n",
       "0    Male  \n",
       "1    Male  \n",
       "2    Male  \n",
       "3  Female  \n",
       "4  Female  "
      ]
     },
     "execution_count": 4,
     "metadata": {},
     "output_type": "execute_result"
    }
   ],
   "source": [
    "Trips.head()"
   ]
  },
  {
   "cell_type": "code",
   "execution_count": 5,
   "metadata": {},
   "outputs": [
    {
     "data": {
      "text/plain": [
       "seq_id          int64\n",
       "hubway_id       int64\n",
       "status         object\n",
       "duration        int64\n",
       "start_date     object\n",
       "strt_statn    float64\n",
       "end_date       object\n",
       "end_statn     float64\n",
       "bike_nr        object\n",
       "subsc_type     object\n",
       "zip_code       object\n",
       "birth_date    float64\n",
       "gender         object\n",
       "dtype: object"
      ]
     },
     "execution_count": 5,
     "metadata": {},
     "output_type": "execute_result"
    }
   ],
   "source": [
    "Trips.dtypes"
   ]
  },
  {
   "cell_type": "code",
   "execution_count": 6,
   "metadata": {},
   "outputs": [],
   "source": [
    "registered_members_duration = np.array(Trips['duration'].loc[Trips['subsc_type'] == 'Registered'])"
   ]
  },
  {
   "cell_type": "code",
   "execution_count": 7,
   "metadata": {},
   "outputs": [
    {
     "data": {
      "text/plain": [
       "array([  9, 220,  56, ..., 480, 120, 420], dtype=int64)"
      ]
     },
     "execution_count": 7,
     "metadata": {},
     "output_type": "execute_result"
    }
   ],
   "source": [
    "registered_members_duration"
   ]
  },
  {
   "cell_type": "code",
   "execution_count": 8,
   "metadata": {},
   "outputs": [],
   "source": [
    "casual_members_duration = np.array(Trips['duration'].loc[Trips['subsc_type'] == 'Casual'])"
   ]
  },
  {
   "cell_type": "code",
   "execution_count": 9,
   "metadata": {},
   "outputs": [
    {
     "data": {
      "text/plain": [
       "array([ 994, 2121, 1315, ...,  780,  300,  540], dtype=int64)"
      ]
     },
     "execution_count": 9,
     "metadata": {},
     "output_type": "execute_result"
    }
   ],
   "source": [
    "casual_members_duration"
   ]
  },
  {
   "cell_type": "code",
   "execution_count": 10,
   "metadata": {},
   "outputs": [
    {
     "data": {
      "text/plain": [
       "733.3289835450383"
      ]
     },
     "execution_count": 10,
     "metadata": {},
     "output_type": "execute_result"
    }
   ],
   "source": [
    "np.mean(registered_members_duration)"
   ]
  },
  {
   "cell_type": "code",
   "execution_count": 11,
   "metadata": {},
   "outputs": [
    {
     "data": {
      "text/plain": [
       "2293.4422135752234"
      ]
     },
     "execution_count": 11,
     "metadata": {},
     "output_type": "execute_result"
    }
   ],
   "source": [
    "np.mean(casual_members_duration)"
   ]
  },
  {
   "cell_type": "code",
   "execution_count": 12,
   "metadata": {},
   "outputs": [
    {
     "data": {
      "image/png": "[encoded data removed]",
      "text/plain": [
       "<Figure size 432x288 with 1 Axes>"
      ]
     },
     "metadata": {
      "needs_background": "light"
     },
     "output_type": "display_data"
    }
   ],
   "source": [
    "sns.stripplot(x='subsc_type',y='duration', data=Trips)\n",
    "plt.ylabel('Duration of trip')\n",
    "plt.xlabel('Subscription Type')\n",
    "plt.show()"
   ]
  },
  {
   "cell_type": "code",
   "execution_count": 13,
   "metadata": {},
   "outputs": [],
   "source": [
    "#sns.violinplot(x='subsc_type',y='duration', data=Trips)\n",
    "#plt.ylabel('Duration of trip')\n",
    "#plt.xlabel('Subscription Type')\n",
    "#plt.show()"
   ]
  },
  {
   "cell_type": "markdown",
   "metadata": {},
   "source": [
    "#### What's the average trip duration for annual members vs. casual users?\n",
    "\n",
    "# Conclusion\n",
    "\n",
    "With this we can conclude that Casual members tend to have (on average) longer trips than Registered members.\n",
    "\n",
    "Registered trip mean (seconds): 733.3289835450383\n",
    "\n",
    "Casual trip mean (seconds): 2293.4422135752234\n",
    "\n",
    "But this might not be the most accurate representation of time of trips since we have a large amount of outliers."
   ]
  },
  {
   "cell_type": "code",
   "execution_count": 14,
   "metadata": {},
   "outputs": [],
   "source": [
    "Trips['start_date'] = pd.to_datetime(Trips['start_date'], format='%m/%d/%Y %H:%M:%S')\n",
    "# Turned the start date column into a datetime"
   ]
  },
  {
   "cell_type": "code",
   "execution_count": 15,
   "metadata": {},
   "outputs": [
    {
     "name": "stdout",
     "output_type": "stream",
     "text": [
      "<class 'pandas.core.frame.DataFrame'>\n",
      "RangeIndex: 1579025 entries, 0 to 1579024\n",
      "Data columns (total 13 columns):\n",
      "seq_id        1579025 non-null int64\n",
      "hubway_id     1579025 non-null int64\n",
      "status        1579025 non-null object\n",
      "duration      1579025 non-null int64\n",
      "start_date    1579025 non-null datetime64[ns]\n",
      "strt_statn    1579011 non-null float64\n",
      "end_date      1579025 non-null object\n",
      "end_statn     1578980 non-null float64\n",
      "bike_nr       1578559 non-null object\n",
      "subsc_type    1579025 non-null object\n",
      "zip_code      1106259 non-null object\n",
      "birth_date    350644 non-null float64\n",
      "gender        1106414 non-null object\n",
      "dtypes: datetime64[ns](1), float64(3), int64(3), object(6)\n",
      "memory usage: 156.6+ MB\n"
     ]
    }
   ],
   "source": [
    "Trips.info()"
   ]
  },
  {
   "cell_type": "code",
   "execution_count": 16,
   "metadata": {},
   "outputs": [],
   "source": [
    "Trips_initial_time = Trips.set_index('start_date').resample('H').count()"
   ]
  },
  {
   "cell_type": "code",
   "execution_count": 17,
   "metadata": {},
   "outputs": [],
   "source": [
    "Trips_initial_time = Trips_initial_time['duration']"
   ]
  },
  {
   "cell_type": "code",
   "execution_count": 18,
   "metadata": {},
   "outputs": [],
   "source": [
    "Trips_per_hour=Trips_initial_time.groupby(Trips_initial_time.index.hour).sum()\n",
    "#Added up all of the counts of trips from each hour of the day individualy\n",
    "Trips_per_hour.index.name = 'Hour'\n",
    "Trips_per_hour=Trips_per_hour.rename('Trip Count')"
   ]
  },
  {
   "cell_type": "code",
   "execution_count": 19,
   "metadata": {},
   "outputs": [
    {
     "data": {
      "text/plain": [
       "Hour\n",
       "0      17826\n",
       "1      14344\n",
       "2      10488\n",
       "3       3056\n",
       "4       2201\n",
       "5       7189\n",
       "6      26780\n",
       "7      73784\n",
       "8     128053\n",
       "9      79240\n",
       "10     62413\n",
       "11     74369\n",
       "12     91815\n",
       "13     92826\n",
       "14     91745\n",
       "15     99831\n",
       "16    130762\n",
       "17    176240\n",
       "18    129882\n",
       "19     91460\n",
       "20     62231\n",
       "21     47600\n",
       "22     38063\n",
       "23     26827\n",
       "Name: Trip Count, dtype: int64"
      ]
     },
     "execution_count": 19,
     "metadata": {},
     "output_type": "execute_result"
    }
   ],
   "source": [
    "Trips_per_hour"
   ]
  },
  {
   "cell_type": "code",
   "execution_count": 20,
   "metadata": {},
   "outputs": [
    {
     "data": {
      "text/plain": [
       "176240"
      ]
     },
     "execution_count": 20,
     "metadata": {},
     "output_type": "execute_result"
    }
   ],
   "source": [
    "Trips_per_hour.max()"
   ]
  },
  {
   "cell_type": "code",
   "execution_count": 21,
   "metadata": {},
   "outputs": [
    {
     "data": {
      "text/plain": [
       "Text(0, 0.5, 'Trips')"
      ]
     },
     "execution_count": 21,
     "metadata": {},
     "output_type": "execute_result"
    },
    {
     "data": {
      "image/png": "[encoded data removed]",
      "text/plain": [
       "<Figure size 432x288 with 1 Axes>"
      ]
     },
     "metadata": {
      "needs_background": "light"
     },
     "output_type": "display_data"
    }
   ],
   "source": [
    "plt.plot(Trips_per_hour)\n",
    "plt.xlabel('Hour')\n",
    "plt.ylabel('Trips')"
   ]
  },
  {
   "cell_type": "markdown",
   "metadata": {},
   "source": [
    "#### What are the peak Hubway hours?\n",
    "\n",
    "# Conclusion\n",
    "\n",
    "This graph shows the sum of all trips each hour throughout the whole dataset.\n",
    "\n",
    "The highest peak is at hour 17 (5 PM)\n",
    "\n",
    "The second highest peak is at hour 8 (8 AM)\n",
    "\n",
    "This makes sense since, judging by my own experience taking the Metro bus to college, the peak hours tend to always be early in the morning and late afternoon."
   ]
  },
  {
   "cell_type": "code",
   "execution_count": 22,
   "metadata": {},
   "outputs": [],
   "source": [
    "Trips['end_date'] = pd.to_datetime(Trips['end_date'], format='%m/%d/%Y %H:%M:%S')"
   ]
  },
  {
   "cell_type": "code",
   "execution_count": 23,
   "metadata": {},
   "outputs": [],
   "source": [
    "Trips_final_day = Trips.set_index('end_date').resample('D').count()"
   ]
  },
  {
   "cell_type": "code",
   "execution_count": 24,
   "metadata": {},
   "outputs": [],
   "source": [
    "Trips_final_day = Trips_final_day['duration']"
   ]
  },
  {
   "cell_type": "code",
   "execution_count": 25,
   "metadata": {},
   "outputs": [],
   "source": [
    "Trips_per_days_week=Trips_final_day.groupby(Trips_final_day.index.dayofweek).sum()\n",
    "#Grouping by day of week in order and getting the net trips per day"
   ]
  },
  {
   "cell_type": "code",
   "execution_count": 26,
   "metadata": {},
   "outputs": [
    {
     "data": {
      "text/plain": [
       "Day\n",
       "0    230549\n",
       "1    231785\n",
       "2    238615\n",
       "3    234869\n",
       "4    230906\n",
       "5    215591\n",
       "6    196710\n",
       "Name: Trips, dtype: int64"
      ]
     },
     "execution_count": 26,
     "metadata": {},
     "output_type": "execute_result"
    }
   ],
   "source": [
    "Trips_per_days_week.index.name = 'Day'\n",
    "Trips_per_days_week = Trips_per_days_week.rename('Trips')\n",
    "Trips_per_days_week"
   ]
  },
  {
   "cell_type": "code",
   "execution_count": 27,
   "metadata": {},
   "outputs": [],
   "source": [
    "days = np.array(['Monday', 'Tuesday', 'Wednesday', 'Thursday', 'Friday', 'Saturday', 'Sunday'])\n",
    "Trips_per_days_week.index = days"
   ]
  },
  {
   "cell_type": "code",
   "execution_count": 28,
   "metadata": {},
   "outputs": [
    {
     "data": {
      "text/plain": [
       "Monday       230549\n",
       "Tuesday      231785\n",
       "Wednesday    238615\n",
       "Thursday     234869\n",
       "Friday       230906\n",
       "Saturday     215591\n",
       "Sunday       196710\n",
       "Name: Trips, dtype: int64"
      ]
     },
     "execution_count": 28,
     "metadata": {},
     "output_type": "execute_result"
    }
   ],
   "source": [
    "Trips_per_days_week"
   ]
  },
  {
   "cell_type": "code",
   "execution_count": 29,
   "metadata": {},
   "outputs": [
    {
     "data": {
      "text/plain": [
       "Wednesday    238615\n",
       "Name: Trips, dtype: int64"
      ]
     },
     "execution_count": 29,
     "metadata": {},
     "output_type": "execute_result"
    }
   ],
   "source": [
    "Trips_per_days_week[Trips_per_days_week == Trips_per_days_week.max()]"
   ]
  },
  {
   "cell_type": "code",
   "execution_count": 30,
   "metadata": {},
   "outputs": [
    {
     "data": {
      "text/plain": [
       "Text(0.5, 0, 'Day')"
      ]
     },
     "execution_count": 30,
     "metadata": {},
     "output_type": "execute_result"
    },
    {
     "data": {
      "image/png": "[encoded data removed]",
      "text/plain": [
       "<Figure size 432x288 with 1 Axes>"
      ]
     },
     "metadata": {
      "needs_background": "light"
     },
     "output_type": "display_data"
    }
   ],
   "source": [
    "plt.plot(Trips_per_days_week)\n",
    "plt.ylabel('Trips')\n",
    "plt.xlabel('Day')"
   ]
  },
  {
   "cell_type": "markdown",
   "metadata": {},
   "source": [
    "#### Which days of the week get the most Hubway traffic?\n",
    "\n",
    "# Conclusion\n",
    "\n",
    "This graph shows the sum of the number of trips each day on the whole dataset.\n",
    "\n",
    "The day with the most trips seems to be Wednesday.\n",
    "In general, Monday through Friday tend to have the most traffic; Sunday seems to have the least traffic and Saturday is in between."
   ]
  },
  {
   "cell_type": "code",
   "execution_count": 31,
   "metadata": {},
   "outputs": [],
   "source": [
    "Trips_by_startstation = Trips.groupby('strt_statn')\n",
    "aggregator = {'duration': 'count'}"
   ]
  },
  {
   "cell_type": "code",
   "execution_count": 32,
   "metadata": {},
   "outputs": [],
   "source": [
    "aggregated_startstation = Trips_by_startstation.aggregate(aggregator)"
   ]
  },
  {
   "cell_type": "code",
   "execution_count": 33,
   "metadata": {},
   "outputs": [
    {
     "name": "stdout",
     "output_type": "stream",
     "text": [
      "<class 'pandas.core.frame.DataFrame'>\n",
      "Float64Index: 142 entries, 3.0 to 145.0\n",
      "Data columns (total 1 columns):\n",
      "duration    142 non-null int64\n",
      "dtypes: int64(1)\n",
      "memory usage: 2.2 KB\n"
     ]
    }
   ],
   "source": [
    "aggregated_startstation.info()"
   ]
  },
  {
   "cell_type": "code",
   "execution_count": 34,
   "metadata": {},
   "outputs": [
    {
     "data": {
      "text/plain": [
       "1579011"
      ]
     },
     "execution_count": 34,
     "metadata": {},
     "output_type": "execute_result"
    }
   ],
   "source": [
    "aggregated_startstation.duration.sum()\n",
    "#Corroborating the count. I see the 14 missing values of the startstation column"
   ]
  },
  {
   "cell_type": "code",
   "execution_count": 35,
   "metadata": {},
   "outputs": [
    {
     "data": {
      "text/html": [
       "<div>\n",
       "<style scoped>\n",
       "    .dataframe tbody tr th:only-of-type {\n",
       "        vertical-align: middle;\n",
       "    }\n",
       "\n",
       "    .dataframe tbody tr th {\n",
       "        vertical-align: top;\n",
       "    }\n",
       "\n",
       "    .dataframe thead th {\n",
       "        text-align: right;\n",
       "    }\n",
       "</style>\n",
       "<table border=\"1\" class=\"dataframe\">\n",
       "  <thead>\n",
       "    <tr style=\"text-align: right;\">\n",
       "      <th></th>\n",
       "      <th>Trips</th>\n",
       "    </tr>\n",
       "    <tr>\n",
       "      <th>strt_statn</th>\n",
       "      <th></th>\n",
       "    </tr>\n",
       "  </thead>\n",
       "  <tbody>\n",
       "    <tr>\n",
       "      <th>22.0</th>\n",
       "      <td>56443</td>\n",
       "    </tr>\n",
       "    <tr>\n",
       "      <th>36.0</th>\n",
       "      <td>42571</td>\n",
       "    </tr>\n",
       "    <tr>\n",
       "      <th>53.0</th>\n",
       "      <td>35440</td>\n",
       "    </tr>\n",
       "    <tr>\n",
       "      <th>67.0</th>\n",
       "      <td>33685</td>\n",
       "    </tr>\n",
       "    <tr>\n",
       "      <th>16.0</th>\n",
       "      <td>32860</td>\n",
       "    </tr>\n",
       "  </tbody>\n",
       "</table>\n",
       "</div>"
      ],
      "text/plain": [
       "            Trips\n",
       "strt_statn       \n",
       "22.0        56443\n",
       "36.0        42571\n",
       "53.0        35440\n",
       "67.0        33685\n",
       "16.0        32860"
      ]
     },
     "execution_count": 35,
     "metadata": {},
     "output_type": "execute_result"
    }
   ],
   "source": [
    "aggregated_startstation = aggregated_startstation.rename(columns={'duration':'Trips'}) \n",
    "#Renamed it to trips since it is not the sum of duration\n",
    "aggregated_startstation.sort_values(by='Trips', ascending=0).head()"
   ]
  },
  {
   "cell_type": "code",
   "execution_count": 36,
   "metadata": {},
   "outputs": [
    {
     "data": {
      "text/plain": [
       "Text(0, 0.5, 'Trips')"
      ]
     },
     "execution_count": 36,
     "metadata": {},
     "output_type": "execute_result"
    },
    {
     "data": {
      "image/png": "[encoded data removed]",
      "text/plain": [
       "<Figure size 432x288 with 1 Axes>"
      ]
     },
     "metadata": {
      "needs_background": "light"
     },
     "output_type": "display_data"
    }
   ],
   "source": [
    "plt.plot(aggregated_startstation)\n",
    "plt.xlabel('Station')\n",
    "plt.ylabel('Trips')"
   ]
  },
  {
   "cell_type": "code",
   "execution_count": 37,
   "metadata": {},
   "outputs": [
    {
     "data": {
      "text/html": [
       "<div>\n",
       "<style scoped>\n",
       "    .dataframe tbody tr th:only-of-type {\n",
       "        vertical-align: middle;\n",
       "    }\n",
       "\n",
       "    .dataframe tbody tr th {\n",
       "        vertical-align: top;\n",
       "    }\n",
       "\n",
       "    .dataframe thead th {\n",
       "        text-align: right;\n",
       "    }\n",
       "</style>\n",
       "<table border=\"1\" class=\"dataframe\">\n",
       "  <thead>\n",
       "    <tr style=\"text-align: right;\">\n",
       "      <th></th>\n",
       "      <th>Trips</th>\n",
       "    </tr>\n",
       "    <tr>\n",
       "      <th>strt_statn</th>\n",
       "      <th></th>\n",
       "    </tr>\n",
       "  </thead>\n",
       "  <tbody>\n",
       "    <tr>\n",
       "      <th>3</th>\n",
       "      <td>9734</td>\n",
       "    </tr>\n",
       "    <tr>\n",
       "      <th>4</th>\n",
       "      <td>18058</td>\n",
       "    </tr>\n",
       "    <tr>\n",
       "      <th>5</th>\n",
       "      <td>10630</td>\n",
       "    </tr>\n",
       "    <tr>\n",
       "      <th>6</th>\n",
       "      <td>23322</td>\n",
       "    </tr>\n",
       "    <tr>\n",
       "      <th>7</th>\n",
       "      <td>9163</td>\n",
       "    </tr>\n",
       "  </tbody>\n",
       "</table>\n",
       "</div>"
      ],
      "text/plain": [
       "            Trips\n",
       "strt_statn       \n",
       "3            9734\n",
       "4           18058\n",
       "5           10630\n",
       "6           23322\n",
       "7            9163"
      ]
     },
     "execution_count": 37,
     "metadata": {},
     "output_type": "execute_result"
    }
   ],
   "source": [
    "aggregated_startstation.index = aggregated_startstation.index.astype(int)\n",
    "#Turning the floats index into int intex to merge them with the Stations dataframe\n",
    "aggregated_startstation.head()"
   ]
  },
  {
   "cell_type": "code",
   "execution_count": 38,
   "metadata": {},
   "outputs": [],
   "source": [
    "Stations = Stations.set_index('id')\n",
    "# Changed the index of stations dataframe to merge it with aggregated_startstation"
   ]
  },
  {
   "cell_type": "code",
   "execution_count": 39,
   "metadata": {},
   "outputs": [],
   "source": [
    "Stations_merge = pd.concat([Stations,aggregated_startstation],axis=1, sort = True)\n",
    "#Merging the Stations DF with the aggregated DF to see the name of the stations"
   ]
  },
  {
   "cell_type": "code",
   "execution_count": 40,
   "metadata": {},
   "outputs": [
    {
     "data": {
      "text/html": [
       "<div>\n",
       "<style scoped>\n",
       "    .dataframe tbody tr th:only-of-type {\n",
       "        vertical-align: middle;\n",
       "    }\n",
       "\n",
       "    .dataframe tbody tr th {\n",
       "        vertical-align: top;\n",
       "    }\n",
       "\n",
       "    .dataframe thead th {\n",
       "        text-align: right;\n",
       "    }\n",
       "</style>\n",
       "<table border=\"1\" class=\"dataframe\">\n",
       "  <thead>\n",
       "    <tr style=\"text-align: right;\">\n",
       "      <th></th>\n",
       "      <th>terminal</th>\n",
       "      <th>station</th>\n",
       "      <th>municipal</th>\n",
       "      <th>lat</th>\n",
       "      <th>lng</th>\n",
       "      <th>status</th>\n",
       "      <th>Trips</th>\n",
       "    </tr>\n",
       "  </thead>\n",
       "  <tbody>\n",
       "    <tr>\n",
       "      <th>22</th>\n",
       "      <td>A32010</td>\n",
       "      <td>South Station - 700 Atlantic Ave.</td>\n",
       "      <td>Boston</td>\n",
       "      <td>42.352175</td>\n",
       "      <td>-71.055547</td>\n",
       "      <td>Existing</td>\n",
       "      <td>56443</td>\n",
       "    </tr>\n",
       "    <tr>\n",
       "      <th>36</th>\n",
       "      <td>D32005</td>\n",
       "      <td>Boston Public Library - 700 Boylston St.</td>\n",
       "      <td>Boston</td>\n",
       "      <td>42.349673</td>\n",
       "      <td>-71.077303</td>\n",
       "      <td>Existing</td>\n",
       "      <td>42571</td>\n",
       "    </tr>\n",
       "    <tr>\n",
       "      <th>53</th>\n",
       "      <td>B32016</td>\n",
       "      <td>Beacon St / Mass Ave</td>\n",
       "      <td>Boston</td>\n",
       "      <td>42.350851</td>\n",
       "      <td>-71.089886</td>\n",
       "      <td>Existing</td>\n",
       "      <td>35440</td>\n",
       "    </tr>\n",
       "    <tr>\n",
       "      <th>67</th>\n",
       "      <td>M32006</td>\n",
       "      <td>MIT at Mass Ave / Amherst St</td>\n",
       "      <td>Cambridge</td>\n",
       "      <td>42.358100</td>\n",
       "      <td>-71.093198</td>\n",
       "      <td>Existing</td>\n",
       "      <td>33685</td>\n",
       "    </tr>\n",
       "    <tr>\n",
       "      <th>16</th>\n",
       "      <td>C32003</td>\n",
       "      <td>Back Bay / South End Station</td>\n",
       "      <td>Boston</td>\n",
       "      <td>42.347433</td>\n",
       "      <td>-71.076163</td>\n",
       "      <td>Existing</td>\n",
       "      <td>32860</td>\n",
       "    </tr>\n",
       "  </tbody>\n",
       "</table>\n",
       "</div>"
      ],
      "text/plain": [
       "   terminal                                   station  municipal        lat  \\\n",
       "22   A32010         South Station - 700 Atlantic Ave.     Boston  42.352175   \n",
       "36   D32005  Boston Public Library - 700 Boylston St.     Boston  42.349673   \n",
       "53   B32016                      Beacon St / Mass Ave     Boston  42.350851   \n",
       "67   M32006              MIT at Mass Ave / Amherst St  Cambridge  42.358100   \n",
       "16   C32003              Back Bay / South End Station     Boston  42.347433   \n",
       "\n",
       "          lng    status  Trips  \n",
       "22 -71.055547  Existing  56443  \n",
       "36 -71.077303  Existing  42571  \n",
       "53 -71.089886  Existing  35440  \n",
       "67 -71.093198  Existing  33685  \n",
       "16 -71.076163  Existing  32860  "
      ]
     },
     "execution_count": 40,
     "metadata": {},
     "output_type": "execute_result"
    }
   ],
   "source": [
    "Stations_merge.sort_values(by='Trips', ascending=0).head()"
   ]
  },
  {
   "cell_type": "markdown",
   "metadata": {},
   "source": [
    "#### Which stations are most popular? \n",
    "\n",
    "\n",
    "# Conclusion\n",
    "\n",
    "I ignored the 14 missing values in the strt_statn column since they are statistically insignificant compared to the size of the dataset.\n",
    "\n",
    "South Station - 700 Atlantic Ave. seems to be the most popular having 56443 total trips counted.\n",
    "\n",
    "The second most popular is station Boston Public Library - 700 Boylston St.having 42571 total trips.\n",
    "\n",
    "The third one is station Beacon St / Mass Ave with 35440 total trips taken.\n",
    "\n",
    "These answers might not be the most accurate since im not taking into consideration the trip times/duration, only how many trips.\n",
    "I'm also only using start stations as reference and not end stations jusging by where the section of the question lies (Start Station)"
   ]
  },
  {
   "cell_type": "code",
   "execution_count": 41,
   "metadata": {},
   "outputs": [
    {
     "name": "stdout",
     "output_type": "stream",
     "text": [
      "<class 'pandas.core.frame.DataFrame'>\n",
      "RangeIndex: 1579025 entries, 0 to 1579024\n",
      "Data columns (total 13 columns):\n",
      "seq_id        1579025 non-null int64\n",
      "hubway_id     1579025 non-null int64\n",
      "status        1579025 non-null object\n",
      "duration      1579025 non-null int64\n",
      "start_date    1579025 non-null datetime64[ns]\n",
      "strt_statn    1579011 non-null float64\n",
      "end_date      1579025 non-null datetime64[ns]\n",
      "end_statn     1578980 non-null float64\n",
      "bike_nr       1578559 non-null object\n",
      "subsc_type    1579025 non-null object\n",
      "zip_code      1106259 non-null object\n",
      "birth_date    350644 non-null float64\n",
      "gender        1106414 non-null object\n",
      "dtypes: datetime64[ns](2), float64(3), int64(3), object(5)\n",
      "memory usage: 156.6+ MB\n"
     ]
    }
   ],
   "source": [
    "Trips.info()"
   ]
  },
  {
   "cell_type": "code",
   "execution_count": 42,
   "metadata": {},
   "outputs": [],
   "source": [
    "#Using the Trips dataframe and dropping nans from start station and end station\n",
    "#Turning them from floats to Ints\n",
    "Trips_dropped=Trips.dropna(subset=['strt_statn', 'end_statn']).copy()\n",
    "Trips_dropped[['strt_statn', 'end_statn']] = Trips_dropped[['strt_statn', 'end_statn']].applymap(np.int64)\n",
    "\n",
    "\n",
    "grouped_start_end=Trips_dropped.groupby(['strt_statn', 'end_statn']).aggregate(aggregator)\n",
    "grouped_start_end = grouped_start_end.rename(columns={'duration':'Trips'}) "
   ]
  },
  {
   "cell_type": "code",
   "execution_count": 43,
   "metadata": {},
   "outputs": [
    {
     "data": {
      "text/html": [
       "<div>\n",
       "<style scoped>\n",
       "    .dataframe tbody tr th:only-of-type {\n",
       "        vertical-align: middle;\n",
       "    }\n",
       "\n",
       "    .dataframe tbody tr th {\n",
       "        vertical-align: top;\n",
       "    }\n",
       "\n",
       "    .dataframe thead th {\n",
       "        text-align: right;\n",
       "    }\n",
       "</style>\n",
       "<table border=\"1\" class=\"dataframe\">\n",
       "  <thead>\n",
       "    <tr style=\"text-align: right;\">\n",
       "      <th></th>\n",
       "      <th></th>\n",
       "      <th>Trips</th>\n",
       "    </tr>\n",
       "    <tr>\n",
       "      <th>strt_statn</th>\n",
       "      <th>end_statn</th>\n",
       "      <th></th>\n",
       "    </tr>\n",
       "  </thead>\n",
       "  <tbody>\n",
       "    <tr>\n",
       "      <th rowspan=\"5\" valign=\"top\">3</th>\n",
       "      <th>3</th>\n",
       "      <td>472</td>\n",
       "    </tr>\n",
       "    <tr>\n",
       "      <th>4</th>\n",
       "      <td>165</td>\n",
       "    </tr>\n",
       "    <tr>\n",
       "      <th>5</th>\n",
       "      <td>289</td>\n",
       "    </tr>\n",
       "    <tr>\n",
       "      <th>6</th>\n",
       "      <td>100</td>\n",
       "    </tr>\n",
       "    <tr>\n",
       "      <th>7</th>\n",
       "      <td>4</td>\n",
       "    </tr>\n",
       "  </tbody>\n",
       "</table>\n",
       "</div>"
      ],
      "text/plain": [
       "                      Trips\n",
       "strt_statn end_statn       \n",
       "3          3            472\n",
       "           4            165\n",
       "           5            289\n",
       "           6            100\n",
       "           7              4"
      ]
     },
     "execution_count": 43,
     "metadata": {},
     "output_type": "execute_result"
    }
   ],
   "source": [
    "grouped_start_end.head()"
   ]
  },
  {
   "cell_type": "code",
   "execution_count": 44,
   "metadata": {},
   "outputs": [
    {
     "data": {
      "text/plain": [
       "1578973"
      ]
     },
     "execution_count": 44,
     "metadata": {},
     "output_type": "execute_result"
    }
   ],
   "source": [
    "grouped_start_end['Trips'].sum()"
   ]
  },
  {
   "cell_type": "code",
   "execution_count": 45,
   "metadata": {},
   "outputs": [
    {
     "data": {
      "text/html": [
       "<div>\n",
       "<style scoped>\n",
       "    .dataframe tbody tr th:only-of-type {\n",
       "        vertical-align: middle;\n",
       "    }\n",
       "\n",
       "    .dataframe tbody tr th {\n",
       "        vertical-align: top;\n",
       "    }\n",
       "\n",
       "    .dataframe thead th {\n",
       "        text-align: right;\n",
       "    }\n",
       "</style>\n",
       "<table border=\"1\" class=\"dataframe\">\n",
       "  <thead>\n",
       "    <tr style=\"text-align: right;\">\n",
       "      <th></th>\n",
       "      <th></th>\n",
       "      <th>Trips</th>\n",
       "    </tr>\n",
       "    <tr>\n",
       "      <th>strt_statn</th>\n",
       "      <th>end_statn</th>\n",
       "      <th></th>\n",
       "    </tr>\n",
       "  </thead>\n",
       "  <tbody>\n",
       "    <tr>\n",
       "      <th>53</th>\n",
       "      <th>67</th>\n",
       "      <td>5185</td>\n",
       "    </tr>\n",
       "    <tr>\n",
       "      <th>67</th>\n",
       "      <th>53</th>\n",
       "      <td>4993</td>\n",
       "    </tr>\n",
       "    <tr>\n",
       "      <th>40</th>\n",
       "      <th>22</th>\n",
       "      <td>4384</td>\n",
       "    </tr>\n",
       "    <tr>\n",
       "      <th>22</th>\n",
       "      <th>40</th>\n",
       "      <td>4208</td>\n",
       "    </tr>\n",
       "    <tr>\n",
       "      <th>58</th>\n",
       "      <th>58</th>\n",
       "      <td>3126</td>\n",
       "    </tr>\n",
       "    <tr>\n",
       "      <th>22</th>\n",
       "      <th>43</th>\n",
       "      <td>3067</td>\n",
       "    </tr>\n",
       "  </tbody>\n",
       "</table>\n",
       "</div>"
      ],
      "text/plain": [
       "                      Trips\n",
       "strt_statn end_statn       \n",
       "53         67          5185\n",
       "67         53          4993\n",
       "40         22          4384\n",
       "22         40          4208\n",
       "58         58          3126\n",
       "22         43          3067"
      ]
     },
     "execution_count": 45,
     "metadata": {},
     "output_type": "execute_result"
    }
   ],
   "source": [
    "grouped_start_end.sort_values(by='Trips', ascending=0).head(6)"
   ]
  },
  {
   "cell_type": "code",
   "execution_count": 46,
   "metadata": {},
   "outputs": [
    {
     "data": {
      "text/plain": [
       "(array([0., 1., 2., 3., 4., 5.]), <a list of 6 Text xticklabel objects>)"
      ]
     },
     "execution_count": 46,
     "metadata": {},
     "output_type": "execute_result"
    },
    {
     "data": {
      "image/png": "[encoded data removed]",
      "text/plain": [
       "<Figure size 432x288 with 1 Axes>"
      ]
     },
     "metadata": {
      "needs_background": "light"
     },
     "output_type": "display_data"
    },
    {
     "data": {
      "image/png": "[encoded data removed]",
      "text/plain": [
       "<Figure size 432x288 with 1 Axes>"
      ]
     },
     "metadata": {
      "needs_background": "light"
     },
     "output_type": "display_data"
    }
   ],
   "source": [
    "grouped_start_end.plot()\n",
    "plt.ylabel(\"Trips\")\n",
    "plt.xlabel('Start/End Station')\n",
    "plt.xticks(rotation='vertical')\n",
    "grouped_start_end.sort_values(by='Trips', ascending=0).head(6).plot()\n",
    "plt.ylabel(\"Trips\")\n",
    "plt.xlabel('Start/End Station')\n",
    "plt.xticks(rotation='vertical')"
   ]
  },
  {
   "cell_type": "code",
   "execution_count": null,
   "metadata": {},
   "outputs": [],
   "source": []
  },
  {
   "cell_type": "code",
   "execution_count": 47,
   "metadata": {},
   "outputs": [
    {
     "name": "stdout",
     "output_type": "stream",
     "text": [
      "<class 'pandas.core.frame.DataFrame'>\n",
      "MultiIndex: 15233 entries, (3, 3) to (145, 145)\n",
      "Data columns (total 1 columns):\n",
      "Trips    15233 non-null int64\n",
      "dtypes: int64(1)\n",
      "memory usage: 180.9 KB\n"
     ]
    }
   ],
   "source": [
    "grouped_start_end.info()"
   ]
  },
  {
   "cell_type": "markdown",
   "metadata": {},
   "source": [
    "#### Which stations make up the most popular origin/destination pairs?\n",
    "\n",
    "# Conclusion\n",
    "\n",
    "There are only 45 missing values from end station which I did not bother filling since they would also be statistically insignificant. In total, there are 52 missing values, combining the ones from start station and end station.\n",
    "\n",
    "The most popular combination of start/end stations looks to be 53/67 with 5185 net trips.\n",
    "\n",
    "Inversely, 67/53 has 4993 net trips. Which makes sense since almost the same amount of people tend to return via the same transportation method.\n",
    "\n",
    "Then there is 40/22 and 22/40 with 4384 and 4208 trips respectively.\n",
    "\n",
    "A cool thing we can notice here is that in station 58, people start and end there oftenly so I can assume that station is mostly used for entertainment rather than for transportation."
   ]
  },
  {
   "cell_type": "code",
   "execution_count": 48,
   "metadata": {},
   "outputs": [
    {
     "data": {
      "text/html": [
       "<div>\n",
       "<style scoped>\n",
       "    .dataframe tbody tr th:only-of-type {\n",
       "        vertical-align: middle;\n",
       "    }\n",
       "\n",
       "    .dataframe tbody tr th {\n",
       "        vertical-align: top;\n",
       "    }\n",
       "\n",
       "    .dataframe thead th {\n",
       "        text-align: right;\n",
       "    }\n",
       "</style>\n",
       "<table border=\"1\" class=\"dataframe\">\n",
       "  <thead>\n",
       "    <tr style=\"text-align: right;\">\n",
       "      <th></th>\n",
       "      <th>Trips</th>\n",
       "    </tr>\n",
       "    <tr>\n",
       "      <th>strt_statn</th>\n",
       "      <th></th>\n",
       "    </tr>\n",
       "  </thead>\n",
       "  <tbody>\n",
       "    <tr>\n",
       "      <th>3</th>\n",
       "      <td>9734</td>\n",
       "    </tr>\n",
       "    <tr>\n",
       "      <th>4</th>\n",
       "      <td>18058</td>\n",
       "    </tr>\n",
       "    <tr>\n",
       "      <th>5</th>\n",
       "      <td>10630</td>\n",
       "    </tr>\n",
       "    <tr>\n",
       "      <th>6</th>\n",
       "      <td>23322</td>\n",
       "    </tr>\n",
       "    <tr>\n",
       "      <th>7</th>\n",
       "      <td>9163</td>\n",
       "    </tr>\n",
       "  </tbody>\n",
       "</table>\n",
       "</div>"
      ],
      "text/plain": [
       "            Trips\n",
       "strt_statn       \n",
       "3            9734\n",
       "4           18058\n",
       "5           10630\n",
       "6           23322\n",
       "7            9163"
      ]
     },
     "execution_count": 48,
     "metadata": {},
     "output_type": "execute_result"
    }
   ],
   "source": [
    "aggregated_startstation = aggregated_startstation.sort_index()\n",
    "aggregated_startstation.head()"
   ]
  },
  {
   "cell_type": "code",
   "execution_count": 49,
   "metadata": {},
   "outputs": [],
   "source": [
    "Trips_by_endstation = Trips.groupby('end_statn')\n",
    "aggregated_endstation = Trips_by_endstation.aggregate(aggregator)\n",
    "aggregated_endstation = aggregated_endstation.rename(columns={'duration':'Trips'})\n",
    "aggregated_endstation.index = aggregated_endstation.index.astype(int)"
   ]
  },
  {
   "cell_type": "code",
   "execution_count": 50,
   "metadata": {},
   "outputs": [
    {
     "data": {
      "text/html": [
       "<div>\n",
       "<style scoped>\n",
       "    .dataframe tbody tr th:only-of-type {\n",
       "        vertical-align: middle;\n",
       "    }\n",
       "\n",
       "    .dataframe tbody tr th {\n",
       "        vertical-align: top;\n",
       "    }\n",
       "\n",
       "    .dataframe thead th {\n",
       "        text-align: right;\n",
       "    }\n",
       "</style>\n",
       "<table border=\"1\" class=\"dataframe\">\n",
       "  <thead>\n",
       "    <tr style=\"text-align: right;\">\n",
       "      <th></th>\n",
       "      <th>Trips</th>\n",
       "    </tr>\n",
       "    <tr>\n",
       "      <th>end_statn</th>\n",
       "      <th></th>\n",
       "    </tr>\n",
       "  </thead>\n",
       "  <tbody>\n",
       "    <tr>\n",
       "      <th>3</th>\n",
       "      <td>9260</td>\n",
       "    </tr>\n",
       "    <tr>\n",
       "      <th>4</th>\n",
       "      <td>17472</td>\n",
       "    </tr>\n",
       "    <tr>\n",
       "      <th>5</th>\n",
       "      <td>11058</td>\n",
       "    </tr>\n",
       "    <tr>\n",
       "      <th>6</th>\n",
       "      <td>22655</td>\n",
       "    </tr>\n",
       "    <tr>\n",
       "      <th>7</th>\n",
       "      <td>8883</td>\n",
       "    </tr>\n",
       "  </tbody>\n",
       "</table>\n",
       "</div>"
      ],
      "text/plain": [
       "           Trips\n",
       "end_statn       \n",
       "3           9260\n",
       "4          17472\n",
       "5          11058\n",
       "6          22655\n",
       "7           8883"
      ]
     },
     "execution_count": 50,
     "metadata": {},
     "output_type": "execute_result"
    }
   ],
   "source": [
    "aggregated_endstation = aggregated_endstation.sort_index()\n",
    "aggregated_endstation.head()"
   ]
  },
  {
   "cell_type": "code",
   "execution_count": 51,
   "metadata": {},
   "outputs": [
    {
     "name": "stdout",
     "output_type": "stream",
     "text": [
      "<class 'pandas.core.frame.DataFrame'>\n",
      "Int64Index: 142 entries, 3 to 145\n",
      "Data columns (total 1 columns):\n",
      "Trips    142 non-null int64\n",
      "dtypes: int64(1)\n",
      "memory usage: 2.2 KB\n"
     ]
    }
   ],
   "source": [
    "aggregated_endstation.info()"
   ]
  },
  {
   "cell_type": "code",
   "execution_count": 52,
   "metadata": {},
   "outputs": [
    {
     "name": "stdout",
     "output_type": "stream",
     "text": [
      "<class 'pandas.core.frame.DataFrame'>\n",
      "Int64Index: 142 entries, 3 to 145\n",
      "Data columns (total 1 columns):\n",
      "Trips    142 non-null int64\n",
      "dtypes: int64(1)\n",
      "memory usage: 2.2 KB\n"
     ]
    }
   ],
   "source": [
    "aggregated_startstation.info()"
   ]
  },
  {
   "cell_type": "code",
   "execution_count": 53,
   "metadata": {},
   "outputs": [],
   "source": [
    "Difference = aggregated_endstation - aggregated_startstation\n",
    "Difference.index.names = ['Station']"
   ]
  },
  {
   "cell_type": "code",
   "execution_count": 54,
   "metadata": {},
   "outputs": [
    {
     "data": {
      "text/html": [
       "<div>\n",
       "<style scoped>\n",
       "    .dataframe tbody tr th:only-of-type {\n",
       "        vertical-align: middle;\n",
       "    }\n",
       "\n",
       "    .dataframe tbody tr th {\n",
       "        vertical-align: top;\n",
       "    }\n",
       "\n",
       "    .dataframe thead th {\n",
       "        text-align: right;\n",
       "    }\n",
       "</style>\n",
       "<table border=\"1\" class=\"dataframe\">\n",
       "  <thead>\n",
       "    <tr style=\"text-align: right;\">\n",
       "      <th></th>\n",
       "      <th>Trips</th>\n",
       "    </tr>\n",
       "    <tr>\n",
       "      <th>Station</th>\n",
       "      <th></th>\n",
       "    </tr>\n",
       "  </thead>\n",
       "  <tbody>\n",
       "    <tr>\n",
       "      <th>74</th>\n",
       "      <td>2685</td>\n",
       "    </tr>\n",
       "    <tr>\n",
       "      <th>42</th>\n",
       "      <td>2118</td>\n",
       "    </tr>\n",
       "    <tr>\n",
       "      <th>114</th>\n",
       "      <td>1756</td>\n",
       "    </tr>\n",
       "    <tr>\n",
       "      <th>43</th>\n",
       "      <td>1686</td>\n",
       "    </tr>\n",
       "    <tr>\n",
       "      <th>10</th>\n",
       "      <td>1618</td>\n",
       "    </tr>\n",
       "  </tbody>\n",
       "</table>\n",
       "</div>"
      ],
      "text/plain": [
       "         Trips\n",
       "Station       \n",
       "74        2685\n",
       "42        2118\n",
       "114       1756\n",
       "43        1686\n",
       "10        1618"
      ]
     },
     "execution_count": 54,
     "metadata": {},
     "output_type": "execute_result"
    }
   ],
   "source": [
    "Difference.sort_values(by='Trips', ascending=0).head()\n",
    "#More people tend to end their trips here"
   ]
  },
  {
   "cell_type": "code",
   "execution_count": 55,
   "metadata": {},
   "outputs": [
    {
     "data": {
      "text/html": [
       "<div>\n",
       "<style scoped>\n",
       "    .dataframe tbody tr th:only-of-type {\n",
       "        vertical-align: middle;\n",
       "    }\n",
       "\n",
       "    .dataframe tbody tr th {\n",
       "        vertical-align: top;\n",
       "    }\n",
       "\n",
       "    .dataframe thead th {\n",
       "        text-align: right;\n",
       "    }\n",
       "</style>\n",
       "<table border=\"1\" class=\"dataframe\">\n",
       "  <thead>\n",
       "    <tr style=\"text-align: right;\">\n",
       "      <th></th>\n",
       "      <th>Trips</th>\n",
       "    </tr>\n",
       "    <tr>\n",
       "      <th>Station</th>\n",
       "      <th></th>\n",
       "    </tr>\n",
       "  </thead>\n",
       "  <tbody>\n",
       "    <tr>\n",
       "      <th>16</th>\n",
       "      <td>-3195</td>\n",
       "    </tr>\n",
       "    <tr>\n",
       "      <th>53</th>\n",
       "      <td>-2071</td>\n",
       "    </tr>\n",
       "    <tr>\n",
       "      <th>25</th>\n",
       "      <td>-2014</td>\n",
       "    </tr>\n",
       "    <tr>\n",
       "      <th>58</th>\n",
       "      <td>-1929</td>\n",
       "    </tr>\n",
       "    <tr>\n",
       "      <th>20</th>\n",
       "      <td>-1650</td>\n",
       "    </tr>\n",
       "  </tbody>\n",
       "</table>\n",
       "</div>"
      ],
      "text/plain": [
       "         Trips\n",
       "Station       \n",
       "16       -3195\n",
       "53       -2071\n",
       "25       -2014\n",
       "58       -1929\n",
       "20       -1650"
      ]
     },
     "execution_count": 55,
     "metadata": {},
     "output_type": "execute_result"
    }
   ],
   "source": [
    "Difference.sort_values(by='Trips', ascending=1).head()\n",
    "#More people tend to start here"
   ]
  },
  {
   "cell_type": "code",
   "execution_count": 56,
   "metadata": {},
   "outputs": [
    {
     "data": {
      "text/html": [
       "<div>\n",
       "<style scoped>\n",
       "    .dataframe tbody tr th:only-of-type {\n",
       "        vertical-align: middle;\n",
       "    }\n",
       "\n",
       "    .dataframe tbody tr th {\n",
       "        vertical-align: top;\n",
       "    }\n",
       "\n",
       "    .dataframe thead th {\n",
       "        text-align: right;\n",
       "    }\n",
       "</style>\n",
       "<table border=\"1\" class=\"dataframe\">\n",
       "  <thead>\n",
       "    <tr style=\"text-align: right;\">\n",
       "      <th></th>\n",
       "      <th>Trips</th>\n",
       "    </tr>\n",
       "    <tr>\n",
       "      <th>Station</th>\n",
       "      <th></th>\n",
       "    </tr>\n",
       "  </thead>\n",
       "  <tbody>\n",
       "    <tr>\n",
       "      <th>85</th>\n",
       "      <td>19</td>\n",
       "    </tr>\n",
       "    <tr>\n",
       "      <th>91</th>\n",
       "      <td>-11</td>\n",
       "    </tr>\n",
       "    <tr>\n",
       "      <th>97</th>\n",
       "      <td>-11</td>\n",
       "    </tr>\n",
       "    <tr>\n",
       "      <th>102</th>\n",
       "      <td>-2</td>\n",
       "    </tr>\n",
       "    <tr>\n",
       "      <th>106</th>\n",
       "      <td>-9</td>\n",
       "    </tr>\n",
       "    <tr>\n",
       "      <th>108</th>\n",
       "      <td>-17</td>\n",
       "    </tr>\n",
       "    <tr>\n",
       "      <th>109</th>\n",
       "      <td>-7</td>\n",
       "    </tr>\n",
       "    <tr>\n",
       "      <th>115</th>\n",
       "      <td>-20</td>\n",
       "    </tr>\n",
       "    <tr>\n",
       "      <th>117</th>\n",
       "      <td>0</td>\n",
       "    </tr>\n",
       "    <tr>\n",
       "      <th>121</th>\n",
       "      <td>-4</td>\n",
       "    </tr>\n",
       "    <tr>\n",
       "      <th>125</th>\n",
       "      <td>-9</td>\n",
       "    </tr>\n",
       "  </tbody>\n",
       "</table>\n",
       "</div>"
      ],
      "text/plain": [
       "         Trips\n",
       "Station       \n",
       "85          19\n",
       "91         -11\n",
       "97         -11\n",
       "102         -2\n",
       "106         -9\n",
       "108        -17\n",
       "109         -7\n",
       "115        -20\n",
       "117          0\n",
       "121         -4\n",
       "125         -9"
      ]
     },
     "execution_count": 56,
     "metadata": {},
     "output_type": "execute_result"
    }
   ],
   "source": [
    "Difference[(Difference.Trips >=-20) & (Difference.Trips <=20)]\n",
    "#Stable frequency of startstation and endstation"
   ]
  },
  {
   "cell_type": "code",
   "execution_count": 57,
   "metadata": {},
   "outputs": [
    {
     "data": {
      "text/plain": [
       "Text(0.5, 0, 'Station')"
      ]
     },
     "execution_count": 57,
     "metadata": {},
     "output_type": "execute_result"
    },
    {
     "data": {
      "image/png": "[encoded data removed]",
      "text/plain": [
       "<Figure size 432x288 with 1 Axes>"
      ]
     },
     "metadata": {
      "needs_background": "light"
     },
     "output_type": "display_data"
    }
   ],
   "source": [
    "plt.plot(Difference)\n",
    "plt.ylabel('Trips (-start, +end)')\n",
    "plt.xlabel('Station')"
   ]
  },
  {
   "cell_type": "markdown",
   "metadata": {},
   "source": [
    "#### Which stations are the most asymmetric - more trips start there than end there, or vice versa?\n",
    "\n",
    "# Conclusion\n",
    "\n",
    "This graph shows the difference in trips between starting stations and end stations. Near Zero means that the same amount trips that are started there are about the same amounts of trips that are ended there. The higher the peak (+) means that more trips end there than they start there. The lower (-) peaks mean that more trips start there than end there.\n",
    "\n",
    "As seen in the table, station 16 in which most people start at, but not many people tend to finish their trip there.\n",
    "\n",
    "Station 74 in the other hand, has a lot of people that end there but not many people that start there.\n",
    "\n",
    "In addition, I did find a difference of 0 in station 117 meaning that station tends to be very stable as a destination and a starting zone. Although we do have 52 missing trips from the dropped NAN values which are not being considered, but they shouldnt all apply to station 117.\n",
    "\n",
    "TLDR: Station 74 and 16 are the most asymetric."
   ]
  },
  {
   "cell_type": "code",
   "execution_count": 58,
   "metadata": {},
   "outputs": [],
   "source": [
    "Asymetric_stations = [74,16]\n",
    "Asym_concat = pd.concat([Stations, Difference], axis=1, sort = True)"
   ]
  },
  {
   "cell_type": "code",
   "execution_count": 59,
   "metadata": {},
   "outputs": [
    {
     "data": {
      "text/html": [
       "<div>\n",
       "<style scoped>\n",
       "    .dataframe tbody tr th:only-of-type {\n",
       "        vertical-align: middle;\n",
       "    }\n",
       "\n",
       "    .dataframe tbody tr th {\n",
       "        vertical-align: top;\n",
       "    }\n",
       "\n",
       "    .dataframe thead th {\n",
       "        text-align: right;\n",
       "    }\n",
       "</style>\n",
       "<table border=\"1\" class=\"dataframe\">\n",
       "  <thead>\n",
       "    <tr style=\"text-align: right;\">\n",
       "      <th></th>\n",
       "      <th>terminal</th>\n",
       "      <th>station</th>\n",
       "      <th>municipal</th>\n",
       "      <th>lat</th>\n",
       "      <th>lng</th>\n",
       "      <th>status</th>\n",
       "      <th>Trips</th>\n",
       "    </tr>\n",
       "  </thead>\n",
       "  <tbody>\n",
       "    <tr>\n",
       "      <th>74</th>\n",
       "      <td>M32018</td>\n",
       "      <td>Harvard Square at Mass Ave/ Dunster</td>\n",
       "      <td>Cambridge</td>\n",
       "      <td>42.373268</td>\n",
       "      <td>-71.118579</td>\n",
       "      <td>Existing</td>\n",
       "      <td>2685</td>\n",
       "    </tr>\n",
       "    <tr>\n",
       "      <th>16</th>\n",
       "      <td>C32003</td>\n",
       "      <td>Back Bay / South End Station</td>\n",
       "      <td>Boston</td>\n",
       "      <td>42.347433</td>\n",
       "      <td>-71.076163</td>\n",
       "      <td>Existing</td>\n",
       "      <td>-3195</td>\n",
       "    </tr>\n",
       "  </tbody>\n",
       "</table>\n",
       "</div>"
      ],
      "text/plain": [
       "   terminal                              station  municipal        lat  \\\n",
       "74   M32018  Harvard Square at Mass Ave/ Dunster  Cambridge  42.373268   \n",
       "16   C32003         Back Bay / South End Station     Boston  42.347433   \n",
       "\n",
       "          lng    status  Trips  \n",
       "74 -71.118579  Existing   2685  \n",
       "16 -71.076163  Existing  -3195  "
      ]
     },
     "execution_count": 59,
     "metadata": {},
     "output_type": "execute_result"
    }
   ],
   "source": [
    "Asym_concat.loc[Asymetric_stations]"
   ]
  },
  {
   "cell_type": "markdown",
   "metadata": {},
   "source": [
    "#### Are they all at the top of hills?\n",
    "\n",
    "# Conclusion\n",
    "\n",
    "Station 74 is located at Hardvard Square\n",
    "https://en.wikipedia.org/wiki/Harvard_Square\n",
    "\n",
    "Station 16 is located at Black Bay\n",
    "https://en.wikipedia.org/wiki/Back_Bay_station\n",
    "\n",
    "They are not located at top of hills."
   ]
  },
  {
   "cell_type": "code",
   "execution_count": 60,
   "metadata": {},
   "outputs": [],
   "source": [
    "Bike_trips_fill=Trips[['bike_nr','start_date','duration']].fillna(method='ffill')\n",
    "#doing a forward fill of the missing bike info since there are 466 missing values"
   ]
  },
  {
   "cell_type": "code",
   "execution_count": 61,
   "metadata": {},
   "outputs": [],
   "source": [
    "#setting the index by Bike number and start date\n",
    "Total_trip_time_per_bike = Bike_trips_fill.set_index(['bike_nr','start_date'])\n",
    "Total_trip_time_per_bike = Total_trip_time_per_bike.sort_index()\n",
    "\n",
    "#Summing the duration of each bike per year per bike\n",
    "Total_trip_time_per_bike_year = Total_trip_time_per_bike.groupby([pd.Grouper(level='start_date', freq='Y'),pd.Grouper(level='bike_nr')]).sum()"
   ]
  },
  {
   "cell_type": "code",
   "execution_count": 62,
   "metadata": {},
   "outputs": [
    {
     "data": {
      "text/html": [
       "<div>\n",
       "<style scoped>\n",
       "    .dataframe tbody tr th:only-of-type {\n",
       "        vertical-align: middle;\n",
       "    }\n",
       "\n",
       "    .dataframe tbody tr th {\n",
       "        vertical-align: top;\n",
       "    }\n",
       "\n",
       "    .dataframe thead th {\n",
       "        text-align: right;\n",
       "    }\n",
       "</style>\n",
       "<table border=\"1\" class=\"dataframe\">\n",
       "  <thead>\n",
       "    <tr style=\"text-align: right;\">\n",
       "      <th></th>\n",
       "      <th></th>\n",
       "      <th>duration</th>\n",
       "    </tr>\n",
       "    <tr>\n",
       "      <th>start_date</th>\n",
       "      <th>bike_nr</th>\n",
       "      <th></th>\n",
       "    </tr>\n",
       "  </thead>\n",
       "  <tbody>\n",
       "    <tr>\n",
       "      <th rowspan=\"5\" valign=\"top\">2011-12-31</th>\n",
       "      <th>B00001</th>\n",
       "      <td>368810</td>\n",
       "    </tr>\n",
       "    <tr>\n",
       "      <th>B00002</th>\n",
       "      <td>550479</td>\n",
       "    </tr>\n",
       "    <tr>\n",
       "      <th>B00003</th>\n",
       "      <td>775176</td>\n",
       "    </tr>\n",
       "    <tr>\n",
       "      <th>B00004</th>\n",
       "      <td>434667</td>\n",
       "    </tr>\n",
       "    <tr>\n",
       "      <th>B00005</th>\n",
       "      <td>475655</td>\n",
       "    </tr>\n",
       "  </tbody>\n",
       "</table>\n",
       "</div>"
      ],
      "text/plain": [
       "                    duration\n",
       "start_date bike_nr          \n",
       "2011-12-31 B00001     368810\n",
       "           B00002     550479\n",
       "           B00003     775176\n",
       "           B00004     434667\n",
       "           B00005     475655"
      ]
     },
     "execution_count": 62,
     "metadata": {},
     "output_type": "execute_result"
    }
   ],
   "source": [
    "Total_trip_time_per_bike_year.head()"
   ]
  },
  {
   "cell_type": "code",
   "execution_count": 63,
   "metadata": {},
   "outputs": [
    {
     "data": {
      "text/html": [
       "<div>\n",
       "<style scoped>\n",
       "    .dataframe tbody tr th:only-of-type {\n",
       "        vertical-align: middle;\n",
       "    }\n",
       "\n",
       "    .dataframe tbody tr th {\n",
       "        vertical-align: top;\n",
       "    }\n",
       "\n",
       "    .dataframe thead th {\n",
       "        text-align: right;\n",
       "    }\n",
       "</style>\n",
       "<table border=\"1\" class=\"dataframe\">\n",
       "  <thead>\n",
       "    <tr style=\"text-align: right;\">\n",
       "      <th></th>\n",
       "      <th></th>\n",
       "      <th>duration</th>\n",
       "    </tr>\n",
       "    <tr>\n",
       "      <th>start_date</th>\n",
       "      <th>bike_nr</th>\n",
       "      <th></th>\n",
       "    </tr>\n",
       "  </thead>\n",
       "  <tbody>\n",
       "    <tr>\n",
       "      <th>2011-12-31</th>\n",
       "      <th>B00135</th>\n",
       "      <td>12340758</td>\n",
       "    </tr>\n",
       "  </tbody>\n",
       "</table>\n",
       "</div>"
      ],
      "text/plain": [
       "                    duration\n",
       "start_date bike_nr          \n",
       "2011-12-31 B00135   12340758"
      ]
     },
     "execution_count": 63,
     "metadata": {},
     "output_type": "execute_result"
    }
   ],
   "source": [
    "Total_trip_time_per_bike_year[Total_trip_time_per_bike_year.duration == Total_trip_time_per_bike_year.duration.max()]"
   ]
  },
  {
   "cell_type": "code",
   "execution_count": 64,
   "metadata": {},
   "outputs": [
    {
     "data": {
      "text/plain": [
       "(array([   0.,  500., 1000., 1500., 2000., 2500., 3000.]),\n",
       " <a list of 7 Text xticklabel objects>)"
      ]
     },
     "execution_count": 64,
     "metadata": {},
     "output_type": "execute_result"
    },
    {
     "data": {
      "image/png": "[encoded data removed]",
      "text/plain": [
       "<Figure size 432x288 with 1 Axes>"
      ]
     },
     "metadata": {
      "needs_background": "light"
     },
     "output_type": "display_data"
    }
   ],
   "source": [
    "Total_trip_time_per_bike_year.plot()\n",
    "plt.ylabel('Trip duration seconds')\n",
    "plt.xlabel('Time/Bikes')\n",
    "plt.xticks(rotation='vertical')"
   ]
  },
  {
   "cell_type": "markdown",
   "metadata": {},
   "source": [
    "#### What does a year in the life of one Hubway bike look like?\n",
    "\n",
    "# Conclusion\n",
    "\n",
    "Currently the graph is pretty tight, but I can infer from it that initially some bikes had much more usage time, and as time went on they added more bikes for people to use thus you can see the steadier line of usage time in the end."
   ]
  },
  {
   "cell_type": "code",
   "execution_count": 65,
   "metadata": {},
   "outputs": [],
   "source": [
    "#Grouping trips by subscription type and starting station. Counting how many trips\n",
    "registered_count = Trips[['subsc_type','strt_statn','duration']].groupby(['subsc_type','strt_statn']).count()\n",
    "\n",
    "#Renaming duration column and sorting it from greatest to least\n",
    "registered_count = registered_count.rename(columns={'duration':'Trips'}).sort_values(by='Trips', ascending=0)"
   ]
  },
  {
   "cell_type": "code",
   "execution_count": 66,
   "metadata": {},
   "outputs": [
    {
     "data": {
      "text/html": [
       "<div>\n",
       "<style scoped>\n",
       "    .dataframe tbody tr th:only-of-type {\n",
       "        vertical-align: middle;\n",
       "    }\n",
       "\n",
       "    .dataframe tbody tr th {\n",
       "        vertical-align: top;\n",
       "    }\n",
       "\n",
       "    .dataframe thead th {\n",
       "        text-align: right;\n",
       "    }\n",
       "</style>\n",
       "<table border=\"1\" class=\"dataframe\">\n",
       "  <thead>\n",
       "    <tr style=\"text-align: right;\">\n",
       "      <th></th>\n",
       "      <th>Trips</th>\n",
       "    </tr>\n",
       "    <tr>\n",
       "      <th>strt_statn</th>\n",
       "      <th></th>\n",
       "    </tr>\n",
       "  </thead>\n",
       "  <tbody>\n",
       "    <tr>\n",
       "      <th>22.0</th>\n",
       "      <td>46156</td>\n",
       "    </tr>\n",
       "    <tr>\n",
       "      <th>16.0</th>\n",
       "      <td>27090</td>\n",
       "    </tr>\n",
       "    <tr>\n",
       "      <th>36.0</th>\n",
       "      <td>25022</td>\n",
       "    </tr>\n",
       "  </tbody>\n",
       "</table>\n",
       "</div>"
      ],
      "text/plain": [
       "            Trips\n",
       "strt_statn       \n",
       "22.0        46156\n",
       "16.0        27090\n",
       "36.0        25022"
      ]
     },
     "execution_count": 66,
     "metadata": {},
     "output_type": "execute_result"
    }
   ],
   "source": [
    "registered_count.loc['Registered',:].head(3)"
   ]
  },
  {
   "cell_type": "code",
   "execution_count": 67,
   "metadata": {},
   "outputs": [
    {
     "data": {
      "text/html": [
       "<div>\n",
       "<style scoped>\n",
       "    .dataframe tbody tr th:only-of-type {\n",
       "        vertical-align: middle;\n",
       "    }\n",
       "\n",
       "    .dataframe tbody tr th {\n",
       "        vertical-align: top;\n",
       "    }\n",
       "\n",
       "    .dataframe thead th {\n",
       "        text-align: right;\n",
       "    }\n",
       "</style>\n",
       "<table border=\"1\" class=\"dataframe\">\n",
       "  <thead>\n",
       "    <tr style=\"text-align: right;\">\n",
       "      <th></th>\n",
       "      <th>Trips</th>\n",
       "    </tr>\n",
       "    <tr>\n",
       "      <th>strt_statn</th>\n",
       "      <th></th>\n",
       "    </tr>\n",
       "  </thead>\n",
       "  <tbody>\n",
       "    <tr>\n",
       "      <th>36.0</th>\n",
       "      <td>17549</td>\n",
       "    </tr>\n",
       "    <tr>\n",
       "      <th>42.0</th>\n",
       "      <td>15689</td>\n",
       "    </tr>\n",
       "    <tr>\n",
       "      <th>58.0</th>\n",
       "      <td>12956</td>\n",
       "    </tr>\n",
       "  </tbody>\n",
       "</table>\n",
       "</div>"
      ],
      "text/plain": [
       "            Trips\n",
       "strt_statn       \n",
       "36.0        17549\n",
       "42.0        15689\n",
       "58.0        12956"
      ]
     },
     "execution_count": 67,
     "metadata": {},
     "output_type": "execute_result"
    }
   ],
   "source": [
    "registered_count.loc['Casual',:].head(3)"
   ]
  },
  {
   "cell_type": "code",
   "execution_count": 68,
   "metadata": {},
   "outputs": [
    {
     "data": {
      "text/plain": [
       "Text(0, 0.5, 'Trips')"
      ]
     },
     "execution_count": 68,
     "metadata": {},
     "output_type": "execute_result"
    },
    {
     "data": {
      "image/png": "[encoded data removed]",
      "text/plain": [
       "<Figure size 1080x216 with 1 Axes>"
      ]
     },
     "metadata": {
      "needs_background": "light"
     },
     "output_type": "display_data"
    }
   ],
   "source": [
    "registered_count.loc['Registered',:].sort_index().plot(figsize=(15,3), title = 'Commuters')\n",
    "plt.xlabel('Station #')\n",
    "plt.ylabel('Trips')"
   ]
  },
  {
   "cell_type": "code",
   "execution_count": 69,
   "metadata": {},
   "outputs": [
    {
     "data": {
      "text/plain": [
       "Text(0, 0.5, 'Trips')"
      ]
     },
     "execution_count": 69,
     "metadata": {},
     "output_type": "execute_result"
    },
    {
     "data": {
      "image/png": "[encoded data removed]",
      "text/plain": [
       "<Figure size 1080x216 with 1 Axes>"
      ]
     },
     "metadata": {
      "needs_background": "light"
     },
     "output_type": "display_data"
    }
   ],
   "source": [
    "registered_count.loc['Casual',:].sort_index().plot(figsize=(15,3), title = 'Tourists')\n",
    "plt.xlabel('Station #')\n",
    "plt.ylabel('Trips')"
   ]
  },
  {
   "cell_type": "markdown",
   "metadata": {},
   "source": [
    "#### Which stations get the most tourist traffic, and\n",
    "#### which get the most commuters?\n",
    "\n",
    "# Conclusion\n",
    "\n",
    "Assuming that Casual members are the tourists and Registered members are the commuters:\n",
    "\n",
    "Station 22 looks to have the most trips by Commuters, followed by stations 16 and 36.\n",
    "\n",
    "Station 36 has the most trips by Tourists, followed by stations 42 and 58."
   ]
  },
  {
   "cell_type": "code",
   "execution_count": 70,
   "metadata": {},
   "outputs": [],
   "source": [
    "#zips = pd.DataFrame(Trips['zip_code'].dropna().str.replace('[^\\d]+', ''))\n",
    "zips = Trips[['zip_code','duration']]"
   ]
  },
  {
   "cell_type": "code",
   "execution_count": 71,
   "metadata": {},
   "outputs": [
    {
     "data": {
      "text/html": [
       "<div>\n",
       "<style scoped>\n",
       "    .dataframe tbody tr th:only-of-type {\n",
       "        vertical-align: middle;\n",
       "    }\n",
       "\n",
       "    .dataframe tbody tr th {\n",
       "        vertical-align: top;\n",
       "    }\n",
       "\n",
       "    .dataframe thead th {\n",
       "        text-align: right;\n",
       "    }\n",
       "</style>\n",
       "<table border=\"1\" class=\"dataframe\">\n",
       "  <thead>\n",
       "    <tr style=\"text-align: right;\">\n",
       "      <th></th>\n",
       "      <th>zip_code</th>\n",
       "      <th>duration</th>\n",
       "    </tr>\n",
       "  </thead>\n",
       "  <tbody>\n",
       "    <tr>\n",
       "      <th>0</th>\n",
       "      <td>'97217</td>\n",
       "      <td>9</td>\n",
       "    </tr>\n",
       "    <tr>\n",
       "      <th>1</th>\n",
       "      <td>'02215</td>\n",
       "      <td>220</td>\n",
       "    </tr>\n",
       "    <tr>\n",
       "      <th>2</th>\n",
       "      <td>'02108</td>\n",
       "      <td>56</td>\n",
       "    </tr>\n",
       "    <tr>\n",
       "      <th>3</th>\n",
       "      <td>'02116</td>\n",
       "      <td>64</td>\n",
       "    </tr>\n",
       "    <tr>\n",
       "      <th>4</th>\n",
       "      <td>'97214</td>\n",
       "      <td>12</td>\n",
       "    </tr>\n",
       "  </tbody>\n",
       "</table>\n",
       "</div>"
      ],
      "text/plain": [
       "  zip_code  duration\n",
       "0   '97217         9\n",
       "1   '02215       220\n",
       "2   '02108        56\n",
       "3   '02116        64\n",
       "4   '97214        12"
      ]
     },
     "execution_count": 71,
     "metadata": {},
     "output_type": "execute_result"
    }
   ],
   "source": [
    "zips.head()"
   ]
  },
  {
   "cell_type": "code",
   "execution_count": 72,
   "metadata": {},
   "outputs": [],
   "source": [
    "zips = zips.groupby('zip_code').count()"
   ]
  },
  {
   "cell_type": "code",
   "execution_count": 73,
   "metadata": {},
   "outputs": [
    {
     "name": "stdout",
     "output_type": "stream",
     "text": [
      "<class 'pandas.core.frame.DataFrame'>\n",
      "Index: 530 entries, '00210 to 2215\n",
      "Data columns (total 1 columns):\n",
      "Trips    530 non-null int64\n",
      "dtypes: int64(1)\n",
      "memory usage: 8.3+ KB\n"
     ]
    }
   ],
   "source": [
    "zips = zips.rename(columns={'duration':'Trips'}) \n",
    "zips.info()"
   ]
  },
  {
   "cell_type": "code",
   "execution_count": 74,
   "metadata": {},
   "outputs": [
    {
     "name": "stdout",
     "output_type": "stream",
     "text": [
      "<class 'pandas.core.frame.DataFrame'>\n",
      "Index: 530 entries, 00210 to 2215\n",
      "Data columns (total 1 columns):\n",
      "Trips    530 non-null int64\n",
      "dtypes: int64(1)\n",
      "memory usage: 8.3+ KB\n"
     ]
    }
   ],
   "source": [
    "zips.index = zips.index.str.replace('[^\\d]+', '')\n",
    "zips.info()"
   ]
  },
  {
   "cell_type": "code",
   "execution_count": 75,
   "metadata": {},
   "outputs": [
    {
     "data": {
      "text/html": [
       "<div>\n",
       "<style scoped>\n",
       "    .dataframe tbody tr th:only-of-type {\n",
       "        vertical-align: middle;\n",
       "    }\n",
       "\n",
       "    .dataframe tbody tr th {\n",
       "        vertical-align: top;\n",
       "    }\n",
       "\n",
       "    .dataframe thead th {\n",
       "        text-align: right;\n",
       "    }\n",
       "</style>\n",
       "<table border=\"1\" class=\"dataframe\">\n",
       "  <thead>\n",
       "    <tr style=\"text-align: right;\">\n",
       "      <th></th>\n",
       "      <th>Trips</th>\n",
       "    </tr>\n",
       "    <tr>\n",
       "      <th>zip_code</th>\n",
       "      <th></th>\n",
       "    </tr>\n",
       "  </thead>\n",
       "  <tbody>\n",
       "    <tr>\n",
       "      <th>02118</th>\n",
       "      <td>121749</td>\n",
       "    </tr>\n",
       "    <tr>\n",
       "      <th>02139</th>\n",
       "      <td>89437</td>\n",
       "    </tr>\n",
       "    <tr>\n",
       "      <th>02215</th>\n",
       "      <td>86758</td>\n",
       "    </tr>\n",
       "    <tr>\n",
       "      <th>02116</th>\n",
       "      <td>77279</td>\n",
       "    </tr>\n",
       "    <tr>\n",
       "      <th>02115</th>\n",
       "      <td>57522</td>\n",
       "    </tr>\n",
       "    <tr>\n",
       "      <th>02138</th>\n",
       "      <td>39488</td>\n",
       "    </tr>\n",
       "    <tr>\n",
       "      <th>02114</th>\n",
       "      <td>38307</td>\n",
       "    </tr>\n",
       "    <tr>\n",
       "      <th>02143</th>\n",
       "      <td>36594</td>\n",
       "    </tr>\n",
       "    <tr>\n",
       "      <th>02113</th>\n",
       "      <td>34376</td>\n",
       "    </tr>\n",
       "    <tr>\n",
       "      <th>02134</th>\n",
       "      <td>28715</td>\n",
       "    </tr>\n",
       "    <tr>\n",
       "      <th>02446</th>\n",
       "      <td>28162</td>\n",
       "    </tr>\n",
       "    <tr>\n",
       "      <th>02109</th>\n",
       "      <td>22873</td>\n",
       "    </tr>\n",
       "    <tr>\n",
       "      <th>02129</th>\n",
       "      <td>22640</td>\n",
       "    </tr>\n",
       "    <tr>\n",
       "      <th>02144</th>\n",
       "      <td>15889</td>\n",
       "    </tr>\n",
       "    <tr>\n",
       "      <th>02111</th>\n",
       "      <td>15074</td>\n",
       "    </tr>\n",
       "  </tbody>\n",
       "</table>\n",
       "</div>"
      ],
      "text/plain": [
       "           Trips\n",
       "zip_code        \n",
       "02118     121749\n",
       "02139      89437\n",
       "02215      86758\n",
       "02116      77279\n",
       "02115      57522\n",
       "02138      39488\n",
       "02114      38307\n",
       "02143      36594\n",
       "02113      34376\n",
       "02134      28715\n",
       "02446      28162\n",
       "02109      22873\n",
       "02129      22640\n",
       "02144      15889\n",
       "02111      15074"
      ]
     },
     "execution_count": 75,
     "metadata": {},
     "output_type": "execute_result"
    }
   ],
   "source": [
    "zips.sort_values(by='Trips', ascending=0).head(15)"
   ]
  },
  {
   "cell_type": "code",
   "execution_count": 76,
   "metadata": {},
   "outputs": [
    {
     "data": {
      "text/plain": [
       "array(['Boston', 'Cambridge', 'Brookline', 'Somerville'], dtype=object)"
      ]
     },
     "execution_count": 76,
     "metadata": {},
     "output_type": "execute_result"
    }
   ],
   "source": [
    "Stations.municipal.unique()"
   ]
  },
  {
   "cell_type": "markdown",
   "metadata": {},
   "source": [
    "#### Which community should be the next to get Hubway stations?\n",
    "\n",
    "# Conclusion\n",
    "\n"
   ]
  },
  {
   "cell_type": "code",
   "execution_count": 77,
   "metadata": {},
   "outputs": [],
   "source": [
    "rentals_2H = Trips.set_index('start_date')\n",
    "\n",
    "#Filtering all data so that there is only data from 2AM\n",
    "rentals_2H = rentals_2H.loc[rentals_2H.index.strftime('%H:%M:%S') == '02:00:00']"
   ]
  },
  {
   "cell_type": "code",
   "execution_count": 78,
   "metadata": {},
   "outputs": [
    {
     "data": {
      "text/html": [
       "<div>\n",
       "<style scoped>\n",
       "    .dataframe tbody tr th:only-of-type {\n",
       "        vertical-align: middle;\n",
       "    }\n",
       "\n",
       "    .dataframe tbody tr th {\n",
       "        vertical-align: top;\n",
       "    }\n",
       "\n",
       "    .dataframe thead th {\n",
       "        text-align: right;\n",
       "    }\n",
       "</style>\n",
       "<table border=\"1\" class=\"dataframe\">\n",
       "  <thead>\n",
       "    <tr style=\"text-align: right;\">\n",
       "      <th></th>\n",
       "      <th>seq_id</th>\n",
       "      <th>hubway_id</th>\n",
       "      <th>status</th>\n",
       "      <th>duration</th>\n",
       "      <th>strt_statn</th>\n",
       "      <th>end_date</th>\n",
       "      <th>end_statn</th>\n",
       "      <th>bike_nr</th>\n",
       "      <th>subsc_type</th>\n",
       "      <th>zip_code</th>\n",
       "      <th>birth_date</th>\n",
       "      <th>gender</th>\n",
       "    </tr>\n",
       "    <tr>\n",
       "      <th>start_date</th>\n",
       "      <th></th>\n",
       "      <th></th>\n",
       "      <th></th>\n",
       "      <th></th>\n",
       "      <th></th>\n",
       "      <th></th>\n",
       "      <th></th>\n",
       "      <th></th>\n",
       "      <th></th>\n",
       "      <th></th>\n",
       "      <th></th>\n",
       "      <th></th>\n",
       "    </tr>\n",
       "  </thead>\n",
       "  <tbody>\n",
       "    <tr>\n",
       "      <th>2011-07-31 02:00:00</th>\n",
       "      <td>1787</td>\n",
       "      <td>1983</td>\n",
       "      <td>Closed</td>\n",
       "      <td>258</td>\n",
       "      <td>45.0</td>\n",
       "      <td>2011-07-31 02:05:00</td>\n",
       "      <td>32.0</td>\n",
       "      <td>B00074</td>\n",
       "      <td>Registered</td>\n",
       "      <td>'02215</td>\n",
       "      <td>1981.0</td>\n",
       "      <td>Male</td>\n",
       "    </tr>\n",
       "    <tr>\n",
       "      <th>2011-08-04 02:00:00</th>\n",
       "      <td>5151</td>\n",
       "      <td>5633</td>\n",
       "      <td>Closed</td>\n",
       "      <td>986</td>\n",
       "      <td>36.0</td>\n",
       "      <td>2011-08-04 02:16:00</td>\n",
       "      <td>47.0</td>\n",
       "      <td>B00019</td>\n",
       "      <td>Registered</td>\n",
       "      <td>'02113</td>\n",
       "      <td>1970.0</td>\n",
       "      <td>Male</td>\n",
       "    </tr>\n",
       "    <tr>\n",
       "      <th>2011-08-07 02:00:00</th>\n",
       "      <td>9584</td>\n",
       "      <td>10516</td>\n",
       "      <td>Closed</td>\n",
       "      <td>1888</td>\n",
       "      <td>43.0</td>\n",
       "      <td>2011-08-07 02:31:00</td>\n",
       "      <td>16.0</td>\n",
       "      <td>B00241</td>\n",
       "      <td>Casual</td>\n",
       "      <td>NaN</td>\n",
       "      <td>NaN</td>\n",
       "      <td>NaN</td>\n",
       "    </tr>\n",
       "    <tr>\n",
       "      <th>2011-08-12 02:00:00</th>\n",
       "      <td>14545</td>\n",
       "      <td>15961</td>\n",
       "      <td>Closed</td>\n",
       "      <td>3008</td>\n",
       "      <td>40.0</td>\n",
       "      <td>2011-08-12 02:50:00</td>\n",
       "      <td>40.0</td>\n",
       "      <td>B00537</td>\n",
       "      <td>Casual</td>\n",
       "      <td>NaN</td>\n",
       "      <td>NaN</td>\n",
       "      <td>NaN</td>\n",
       "    </tr>\n",
       "    <tr>\n",
       "      <th>2011-08-17 02:00:00</th>\n",
       "      <td>20005</td>\n",
       "      <td>22121</td>\n",
       "      <td>Closed</td>\n",
       "      <td>144</td>\n",
       "      <td>45.0</td>\n",
       "      <td>2011-08-17 02:03:00</td>\n",
       "      <td>33.0</td>\n",
       "      <td>B00488</td>\n",
       "      <td>Registered</td>\n",
       "      <td>'02215</td>\n",
       "      <td>1979.0</td>\n",
       "      <td>Male</td>\n",
       "    </tr>\n",
       "    <tr>\n",
       "      <th>2011-08-20 02:00:00</th>\n",
       "      <td>24121</td>\n",
       "      <td>26679</td>\n",
       "      <td>Closed</td>\n",
       "      <td>2295</td>\n",
       "      <td>36.0</td>\n",
       "      <td>2011-08-20 02:39:00</td>\n",
       "      <td>42.0</td>\n",
       "      <td>B00456</td>\n",
       "      <td>Casual</td>\n",
       "      <td>NaN</td>\n",
       "      <td>NaN</td>\n",
       "      <td>NaN</td>\n",
       "    </tr>\n",
       "    <tr>\n",
       "      <th>2011-09-11 02:00:00</th>\n",
       "      <td>50327</td>\n",
       "      <td>57650</td>\n",
       "      <td>Closed</td>\n",
       "      <td>692</td>\n",
       "      <td>42.0</td>\n",
       "      <td>2011-09-11 02:11:00</td>\n",
       "      <td>32.0</td>\n",
       "      <td>B00303</td>\n",
       "      <td>Casual</td>\n",
       "      <td>NaN</td>\n",
       "      <td>NaN</td>\n",
       "      <td>NaN</td>\n",
       "    </tr>\n",
       "    <tr>\n",
       "      <th>2011-09-11 02:00:00</th>\n",
       "      <td>50329</td>\n",
       "      <td>57652</td>\n",
       "      <td>Closed</td>\n",
       "      <td>1049</td>\n",
       "      <td>47.0</td>\n",
       "      <td>2011-09-11 02:17:00</td>\n",
       "      <td>54.0</td>\n",
       "      <td>B00190</td>\n",
       "      <td>Casual</td>\n",
       "      <td>NaN</td>\n",
       "      <td>NaN</td>\n",
       "      <td>NaN</td>\n",
       "    </tr>\n",
       "    <tr>\n",
       "      <th>2011-09-11 02:00:00</th>\n",
       "      <td>50331</td>\n",
       "      <td>57654</td>\n",
       "      <td>Closed</td>\n",
       "      <td>1006</td>\n",
       "      <td>47.0</td>\n",
       "      <td>2011-09-11 02:17:00</td>\n",
       "      <td>54.0</td>\n",
       "      <td>B00154</td>\n",
       "      <td>Casual</td>\n",
       "      <td>NaN</td>\n",
       "      <td>NaN</td>\n",
       "      <td>NaN</td>\n",
       "    </tr>\n",
       "    <tr>\n",
       "      <th>2011-09-11 02:00:00</th>\n",
       "      <td>50332</td>\n",
       "      <td>57655</td>\n",
       "      <td>Closed</td>\n",
       "      <td>784</td>\n",
       "      <td>44.0</td>\n",
       "      <td>2011-09-11 02:13:00</td>\n",
       "      <td>49.0</td>\n",
       "      <td>B00132</td>\n",
       "      <td>Registered</td>\n",
       "      <td>'02118</td>\n",
       "      <td>1987.0</td>\n",
       "      <td>Male</td>\n",
       "    </tr>\n",
       "    <tr>\n",
       "      <th>2011-09-18 02:00:00</th>\n",
       "      <td>60945</td>\n",
       "      <td>69360</td>\n",
       "      <td>Closed</td>\n",
       "      <td>1547</td>\n",
       "      <td>23.0</td>\n",
       "      <td>2011-09-18 02:26:00</td>\n",
       "      <td>33.0</td>\n",
       "      <td>B00220</td>\n",
       "      <td>Casual</td>\n",
       "      <td>NaN</td>\n",
       "      <td>NaN</td>\n",
       "      <td>NaN</td>\n",
       "    </tr>\n",
       "    <tr>\n",
       "      <th>2011-09-23 02:00:00</th>\n",
       "      <td>67596</td>\n",
       "      <td>76710</td>\n",
       "      <td>Closed</td>\n",
       "      <td>409</td>\n",
       "      <td>49.0</td>\n",
       "      <td>2011-09-23 02:07:00</td>\n",
       "      <td>36.0</td>\n",
       "      <td>B00555</td>\n",
       "      <td>Casual</td>\n",
       "      <td>NaN</td>\n",
       "      <td>NaN</td>\n",
       "      <td>NaN</td>\n",
       "    </tr>\n",
       "    <tr>\n",
       "      <th>2011-09-23 02:00:00</th>\n",
       "      <td>67597</td>\n",
       "      <td>76711</td>\n",
       "      <td>Closed</td>\n",
       "      <td>183</td>\n",
       "      <td>27.0</td>\n",
       "      <td>2011-09-23 02:03:00</td>\n",
       "      <td>12.0</td>\n",
       "      <td>B00020</td>\n",
       "      <td>Casual</td>\n",
       "      <td>NaN</td>\n",
       "      <td>NaN</td>\n",
       "      <td>NaN</td>\n",
       "    </tr>\n",
       "    <tr>\n",
       "      <th>2011-09-25 02:00:00</th>\n",
       "      <td>69872</td>\n",
       "      <td>79247</td>\n",
       "      <td>Closed</td>\n",
       "      <td>253</td>\n",
       "      <td>41.0</td>\n",
       "      <td>2011-09-25 02:04:00</td>\n",
       "      <td>9.0</td>\n",
       "      <td>B00224</td>\n",
       "      <td>Registered</td>\n",
       "      <td>'02139</td>\n",
       "      <td>1982.0</td>\n",
       "      <td>Male</td>\n",
       "    </tr>\n",
       "    <tr>\n",
       "      <th>2011-10-07 02:00:00</th>\n",
       "      <td>85727</td>\n",
       "      <td>97021</td>\n",
       "      <td>Closed</td>\n",
       "      <td>309</td>\n",
       "      <td>33.0</td>\n",
       "      <td>2011-10-07 02:05:00</td>\n",
       "      <td>10.0</td>\n",
       "      <td>B00529</td>\n",
       "      <td>Casual</td>\n",
       "      <td>NaN</td>\n",
       "      <td>NaN</td>\n",
       "      <td>NaN</td>\n",
       "    </tr>\n",
       "    <tr>\n",
       "      <th>2011-10-09 02:00:00</th>\n",
       "      <td>89292</td>\n",
       "      <td>100988</td>\n",
       "      <td>Closed</td>\n",
       "      <td>384</td>\n",
       "      <td>24.0</td>\n",
       "      <td>2011-10-09 02:07:00</td>\n",
       "      <td>43.0</td>\n",
       "      <td>B00416</td>\n",
       "      <td>Casual</td>\n",
       "      <td>NaN</td>\n",
       "      <td>NaN</td>\n",
       "      <td>NaN</td>\n",
       "    </tr>\n",
       "    <tr>\n",
       "      <th>2011-10-09 02:00:00</th>\n",
       "      <td>89293</td>\n",
       "      <td>100989</td>\n",
       "      <td>Closed</td>\n",
       "      <td>1640</td>\n",
       "      <td>42.0</td>\n",
       "      <td>2011-10-09 02:28:00</td>\n",
       "      <td>9.0</td>\n",
       "      <td>B00489</td>\n",
       "      <td>Casual</td>\n",
       "      <td>NaN</td>\n",
       "      <td>NaN</td>\n",
       "      <td>NaN</td>\n",
       "    </tr>\n",
       "    <tr>\n",
       "      <th>2011-10-16 02:00:00</th>\n",
       "      <td>99033</td>\n",
       "      <td>111871</td>\n",
       "      <td>Closed</td>\n",
       "      <td>878</td>\n",
       "      <td>55.0</td>\n",
       "      <td>2011-10-16 02:15:00</td>\n",
       "      <td>49.0</td>\n",
       "      <td>B00001</td>\n",
       "      <td>Casual</td>\n",
       "      <td>NaN</td>\n",
       "      <td>NaN</td>\n",
       "      <td>NaN</td>\n",
       "    </tr>\n",
       "    <tr>\n",
       "      <th>2011-10-16 02:00:00</th>\n",
       "      <td>99035</td>\n",
       "      <td>111873</td>\n",
       "      <td>Closed</td>\n",
       "      <td>1501</td>\n",
       "      <td>47.0</td>\n",
       "      <td>2011-10-16 02:25:00</td>\n",
       "      <td>41.0</td>\n",
       "      <td>B00088</td>\n",
       "      <td>Casual</td>\n",
       "      <td>NaN</td>\n",
       "      <td>NaN</td>\n",
       "      <td>NaN</td>\n",
       "    </tr>\n",
       "    <tr>\n",
       "      <th>2011-10-22 02:00:00</th>\n",
       "      <td>106616</td>\n",
       "      <td>120230</td>\n",
       "      <td>Closed</td>\n",
       "      <td>998</td>\n",
       "      <td>59.0</td>\n",
       "      <td>2011-10-22 02:16:00</td>\n",
       "      <td>57.0</td>\n",
       "      <td>B00577</td>\n",
       "      <td>Casual</td>\n",
       "      <td>NaN</td>\n",
       "      <td>NaN</td>\n",
       "      <td>NaN</td>\n",
       "    </tr>\n",
       "    <tr>\n",
       "      <th>2011-10-29 02:00:00</th>\n",
       "      <td>113929</td>\n",
       "      <td>128357</td>\n",
       "      <td>Closed</td>\n",
       "      <td>341</td>\n",
       "      <td>54.0</td>\n",
       "      <td>2011-10-29 02:05:00</td>\n",
       "      <td>4.0</td>\n",
       "      <td>B00380</td>\n",
       "      <td>Registered</td>\n",
       "      <td>'02118</td>\n",
       "      <td>1976.0</td>\n",
       "      <td>Male</td>\n",
       "    </tr>\n",
       "    <tr>\n",
       "      <th>2011-11-13 02:00:00</th>\n",
       "      <td>128157</td>\n",
       "      <td>144148</td>\n",
       "      <td>Closed</td>\n",
       "      <td>490</td>\n",
       "      <td>41.0</td>\n",
       "      <td>2011-11-13 02:08:00</td>\n",
       "      <td>33.0</td>\n",
       "      <td>B00341</td>\n",
       "      <td>Registered</td>\n",
       "      <td>'02215</td>\n",
       "      <td>1990.0</td>\n",
       "      <td>Male</td>\n",
       "    </tr>\n",
       "    <tr>\n",
       "      <th>2011-11-20 02:00:00</th>\n",
       "      <td>134384</td>\n",
       "      <td>151086</td>\n",
       "      <td>Closed</td>\n",
       "      <td>1180</td>\n",
       "      <td>36.0</td>\n",
       "      <td>2011-11-20 02:19:00</td>\n",
       "      <td>9.0</td>\n",
       "      <td>B00062</td>\n",
       "      <td>Casual</td>\n",
       "      <td>NaN</td>\n",
       "      <td>NaN</td>\n",
       "      <td>NaN</td>\n",
       "    </tr>\n",
       "    <tr>\n",
       "      <th>2011-11-20 02:00:00</th>\n",
       "      <td>134385</td>\n",
       "      <td>151087</td>\n",
       "      <td>Closed</td>\n",
       "      <td>1001</td>\n",
       "      <td>42.0</td>\n",
       "      <td>2011-11-20 02:16:00</td>\n",
       "      <td>64.0</td>\n",
       "      <td>B00042</td>\n",
       "      <td>Casual</td>\n",
       "      <td>NaN</td>\n",
       "      <td>NaN</td>\n",
       "      <td>NaN</td>\n",
       "    </tr>\n",
       "    <tr>\n",
       "      <th>2011-11-20 02:00:00</th>\n",
       "      <td>134386</td>\n",
       "      <td>151088</td>\n",
       "      <td>Closed</td>\n",
       "      <td>35805</td>\n",
       "      <td>33.0</td>\n",
       "      <td>2011-11-20 11:56:00</td>\n",
       "      <td>41.0</td>\n",
       "      <td>B00311</td>\n",
       "      <td>Casual</td>\n",
       "      <td>NaN</td>\n",
       "      <td>NaN</td>\n",
       "      <td>NaN</td>\n",
       "    </tr>\n",
       "    <tr>\n",
       "      <th>2011-11-20 02:00:00</th>\n",
       "      <td>134387</td>\n",
       "      <td>151089</td>\n",
       "      <td>Closed</td>\n",
       "      <td>695</td>\n",
       "      <td>58.0</td>\n",
       "      <td>2011-11-20 02:11:00</td>\n",
       "      <td>33.0</td>\n",
       "      <td>B00404</td>\n",
       "      <td>Registered</td>\n",
       "      <td>'02215</td>\n",
       "      <td>1989.0</td>\n",
       "      <td>Male</td>\n",
       "    </tr>\n",
       "    <tr>\n",
       "      <th>2011-11-20 02:00:00</th>\n",
       "      <td>134388</td>\n",
       "      <td>151090</td>\n",
       "      <td>Closed</td>\n",
       "      <td>35768</td>\n",
       "      <td>33.0</td>\n",
       "      <td>2011-11-20 11:56:00</td>\n",
       "      <td>41.0</td>\n",
       "      <td>B00210</td>\n",
       "      <td>Casual</td>\n",
       "      <td>NaN</td>\n",
       "      <td>NaN</td>\n",
       "      <td>NaN</td>\n",
       "    </tr>\n",
       "    <tr>\n",
       "      <th>2012-03-17 02:00:00</th>\n",
       "      <td>141168</td>\n",
       "      <td>158471</td>\n",
       "      <td>Closed</td>\n",
       "      <td>4</td>\n",
       "      <td>57.0</td>\n",
       "      <td>2012-03-17 02:00:00</td>\n",
       "      <td>57.0</td>\n",
       "      <td>B00005</td>\n",
       "      <td>Registered</td>\n",
       "      <td>'02118</td>\n",
       "      <td>1971.0</td>\n",
       "      <td>Male</td>\n",
       "    </tr>\n",
       "    <tr>\n",
       "      <th>2012-04-07 02:00:00</th>\n",
       "      <td>162345</td>\n",
       "      <td>184223</td>\n",
       "      <td>Closed</td>\n",
       "      <td>534</td>\n",
       "      <td>52.0</td>\n",
       "      <td>2012-04-07 02:09:00</td>\n",
       "      <td>9.0</td>\n",
       "      <td>B00101</td>\n",
       "      <td>Casual</td>\n",
       "      <td>NaN</td>\n",
       "      <td>NaN</td>\n",
       "      <td>NaN</td>\n",
       "    </tr>\n",
       "    <tr>\n",
       "      <th>2012-04-07 02:00:00</th>\n",
       "      <td>162346</td>\n",
       "      <td>184224</td>\n",
       "      <td>Closed</td>\n",
       "      <td>545</td>\n",
       "      <td>52.0</td>\n",
       "      <td>2012-04-07 02:09:00</td>\n",
       "      <td>9.0</td>\n",
       "      <td>B00348</td>\n",
       "      <td>Casual</td>\n",
       "      <td>NaN</td>\n",
       "      <td>NaN</td>\n",
       "      <td>NaN</td>\n",
       "    </tr>\n",
       "    <tr>\n",
       "      <th>...</th>\n",
       "      <td>...</td>\n",
       "      <td>...</td>\n",
       "      <td>...</td>\n",
       "      <td>...</td>\n",
       "      <td>...</td>\n",
       "      <td>...</td>\n",
       "      <td>...</td>\n",
       "      <td>...</td>\n",
       "      <td>...</td>\n",
       "      <td>...</td>\n",
       "      <td>...</td>\n",
       "      <td>...</td>\n",
       "    </tr>\n",
       "    <tr>\n",
       "      <th>2013-10-03 02:00:00</th>\n",
       "      <td>1377875</td>\n",
       "      <td>1534750</td>\n",
       "      <td>Closed</td>\n",
       "      <td>360</td>\n",
       "      <td>67.0</td>\n",
       "      <td>2013-10-03 02:06:00</td>\n",
       "      <td>53.0</td>\n",
       "      <td>B00550</td>\n",
       "      <td>Registered</td>\n",
       "      <td>'02215</td>\n",
       "      <td>NaN</td>\n",
       "      <td>Male</td>\n",
       "    </tr>\n",
       "    <tr>\n",
       "      <th>2013-10-04 02:00:00</th>\n",
       "      <td>1383482</td>\n",
       "      <td>1540774</td>\n",
       "      <td>Closed</td>\n",
       "      <td>1260</td>\n",
       "      <td>53.0</td>\n",
       "      <td>2013-10-04 02:21:00</td>\n",
       "      <td>36.0</td>\n",
       "      <td>B00375</td>\n",
       "      <td>Registered</td>\n",
       "      <td>'02215</td>\n",
       "      <td>NaN</td>\n",
       "      <td>Male</td>\n",
       "    </tr>\n",
       "    <tr>\n",
       "      <th>2013-10-05 02:00:00</th>\n",
       "      <td>1388717</td>\n",
       "      <td>1546360</td>\n",
       "      <td>Closed</td>\n",
       "      <td>420</td>\n",
       "      <td>42.0</td>\n",
       "      <td>2013-10-05 02:07:00</td>\n",
       "      <td>103.0</td>\n",
       "      <td>T01077</td>\n",
       "      <td>Registered</td>\n",
       "      <td>'02115</td>\n",
       "      <td>NaN</td>\n",
       "      <td>Male</td>\n",
       "    </tr>\n",
       "    <tr>\n",
       "      <th>2013-10-05 02:00:00</th>\n",
       "      <td>1388718</td>\n",
       "      <td>1546361</td>\n",
       "      <td>Closed</td>\n",
       "      <td>540</td>\n",
       "      <td>113.0</td>\n",
       "      <td>2013-10-05 02:09:00</td>\n",
       "      <td>75.0</td>\n",
       "      <td>B00580</td>\n",
       "      <td>Registered</td>\n",
       "      <td>'02139</td>\n",
       "      <td>NaN</td>\n",
       "      <td>Male</td>\n",
       "    </tr>\n",
       "    <tr>\n",
       "      <th>2013-10-06 02:00:00</th>\n",
       "      <td>1393280</td>\n",
       "      <td>1551290</td>\n",
       "      <td>Closed</td>\n",
       "      <td>2040</td>\n",
       "      <td>69.0</td>\n",
       "      <td>2013-10-06 02:34:00</td>\n",
       "      <td>137.0</td>\n",
       "      <td>T01203</td>\n",
       "      <td>Casual</td>\n",
       "      <td>NaN</td>\n",
       "      <td>NaN</td>\n",
       "      <td>NaN</td>\n",
       "    </tr>\n",
       "    <tr>\n",
       "      <th>2013-10-06 02:00:00</th>\n",
       "      <td>1393283</td>\n",
       "      <td>1551293</td>\n",
       "      <td>Closed</td>\n",
       "      <td>900</td>\n",
       "      <td>57.0</td>\n",
       "      <td>2013-10-06 02:15:00</td>\n",
       "      <td>67.0</td>\n",
       "      <td>B00446</td>\n",
       "      <td>Casual</td>\n",
       "      <td>NaN</td>\n",
       "      <td>NaN</td>\n",
       "      <td>NaN</td>\n",
       "    </tr>\n",
       "    <tr>\n",
       "      <th>2013-10-06 02:00:00</th>\n",
       "      <td>1393285</td>\n",
       "      <td>1551295</td>\n",
       "      <td>Closed</td>\n",
       "      <td>1140</td>\n",
       "      <td>70.0</td>\n",
       "      <td>2013-10-06 02:19:00</td>\n",
       "      <td>6.0</td>\n",
       "      <td>T01066</td>\n",
       "      <td>Registered</td>\n",
       "      <td>'02114</td>\n",
       "      <td>NaN</td>\n",
       "      <td>Male</td>\n",
       "    </tr>\n",
       "    <tr>\n",
       "      <th>2013-10-06 02:00:00</th>\n",
       "      <td>1393286</td>\n",
       "      <td>1551296</td>\n",
       "      <td>Closed</td>\n",
       "      <td>600</td>\n",
       "      <td>52.0</td>\n",
       "      <td>2013-10-06 02:10:00</td>\n",
       "      <td>68.0</td>\n",
       "      <td>B00129</td>\n",
       "      <td>Registered</td>\n",
       "      <td>'02139</td>\n",
       "      <td>NaN</td>\n",
       "      <td>Male</td>\n",
       "    </tr>\n",
       "    <tr>\n",
       "      <th>2013-10-06 02:00:00</th>\n",
       "      <td>1393287</td>\n",
       "      <td>1551299</td>\n",
       "      <td>Closed</td>\n",
       "      <td>780</td>\n",
       "      <td>91.0</td>\n",
       "      <td>2013-10-06 02:13:00</td>\n",
       "      <td>9.0</td>\n",
       "      <td>B00543</td>\n",
       "      <td>Registered</td>\n",
       "      <td>'02114</td>\n",
       "      <td>NaN</td>\n",
       "      <td>Male</td>\n",
       "    </tr>\n",
       "    <tr>\n",
       "      <th>2013-10-08 02:00:00</th>\n",
       "      <td>1399089</td>\n",
       "      <td>1557453</td>\n",
       "      <td>Closed</td>\n",
       "      <td>780</td>\n",
       "      <td>75.0</td>\n",
       "      <td>2013-10-08 02:13:00</td>\n",
       "      <td>138.0</td>\n",
       "      <td>B00222</td>\n",
       "      <td>Registered</td>\n",
       "      <td>'02143</td>\n",
       "      <td>NaN</td>\n",
       "      <td>Female</td>\n",
       "    </tr>\n",
       "    <tr>\n",
       "      <th>2013-10-13 02:00:00</th>\n",
       "      <td>1422576</td>\n",
       "      <td>1582522</td>\n",
       "      <td>Closed</td>\n",
       "      <td>780</td>\n",
       "      <td>103.0</td>\n",
       "      <td>2013-10-13 02:13:00</td>\n",
       "      <td>96.0</td>\n",
       "      <td>B00104</td>\n",
       "      <td>Casual</td>\n",
       "      <td>NaN</td>\n",
       "      <td>NaN</td>\n",
       "      <td>NaN</td>\n",
       "    </tr>\n",
       "    <tr>\n",
       "      <th>2013-10-13 02:00:00</th>\n",
       "      <td>1422577</td>\n",
       "      <td>1582523</td>\n",
       "      <td>Closed</td>\n",
       "      <td>1260</td>\n",
       "      <td>54.0</td>\n",
       "      <td>2013-10-13 02:21:00</td>\n",
       "      <td>67.0</td>\n",
       "      <td>B00429</td>\n",
       "      <td>Casual</td>\n",
       "      <td>NaN</td>\n",
       "      <td>NaN</td>\n",
       "      <td>NaN</td>\n",
       "    </tr>\n",
       "    <tr>\n",
       "      <th>2013-10-20 02:00:00</th>\n",
       "      <td>1456535</td>\n",
       "      <td>1618791</td>\n",
       "      <td>Closed</td>\n",
       "      <td>540</td>\n",
       "      <td>99.0</td>\n",
       "      <td>2013-10-20 02:09:00</td>\n",
       "      <td>22.0</td>\n",
       "      <td>B00536</td>\n",
       "      <td>Casual</td>\n",
       "      <td>NaN</td>\n",
       "      <td>NaN</td>\n",
       "      <td>NaN</td>\n",
       "    </tr>\n",
       "    <tr>\n",
       "      <th>2013-10-27 02:00:00</th>\n",
       "      <td>1487400</td>\n",
       "      <td>1651507</td>\n",
       "      <td>Closed</td>\n",
       "      <td>300</td>\n",
       "      <td>88.0</td>\n",
       "      <td>2013-10-27 02:05:00</td>\n",
       "      <td>78.0</td>\n",
       "      <td>B00042</td>\n",
       "      <td>Registered</td>\n",
       "      <td>'02145</td>\n",
       "      <td>NaN</td>\n",
       "      <td>Male</td>\n",
       "    </tr>\n",
       "    <tr>\n",
       "      <th>2013-10-29 02:00:00</th>\n",
       "      <td>1494242</td>\n",
       "      <td>1658631</td>\n",
       "      <td>Closed</td>\n",
       "      <td>300</td>\n",
       "      <td>80.0</td>\n",
       "      <td>2013-10-29 02:05:00</td>\n",
       "      <td>68.0</td>\n",
       "      <td>B00487</td>\n",
       "      <td>Registered</td>\n",
       "      <td>'02139</td>\n",
       "      <td>NaN</td>\n",
       "      <td>Male</td>\n",
       "    </tr>\n",
       "    <tr>\n",
       "      <th>2013-10-30 02:00:00</th>\n",
       "      <td>1498276</td>\n",
       "      <td>1662851</td>\n",
       "      <td>Closed</td>\n",
       "      <td>720</td>\n",
       "      <td>128.0</td>\n",
       "      <td>2013-10-30 02:12:00</td>\n",
       "      <td>79.0</td>\n",
       "      <td>T01446</td>\n",
       "      <td>Registered</td>\n",
       "      <td>'02143</td>\n",
       "      <td>NaN</td>\n",
       "      <td>Male</td>\n",
       "    </tr>\n",
       "    <tr>\n",
       "      <th>2013-10-31 02:00:00</th>\n",
       "      <td>1502420</td>\n",
       "      <td>1667267</td>\n",
       "      <td>Closed</td>\n",
       "      <td>600</td>\n",
       "      <td>42.0</td>\n",
       "      <td>2013-10-31 02:10:00</td>\n",
       "      <td>52.0</td>\n",
       "      <td>T01130</td>\n",
       "      <td>Casual</td>\n",
       "      <td>NaN</td>\n",
       "      <td>NaN</td>\n",
       "      <td>NaN</td>\n",
       "    </tr>\n",
       "    <tr>\n",
       "      <th>2013-10-31 02:00:00</th>\n",
       "      <td>1502421</td>\n",
       "      <td>1667268</td>\n",
       "      <td>Closed</td>\n",
       "      <td>600</td>\n",
       "      <td>42.0</td>\n",
       "      <td>2013-10-31 02:10:00</td>\n",
       "      <td>52.0</td>\n",
       "      <td>B00327</td>\n",
       "      <td>Casual</td>\n",
       "      <td>NaN</td>\n",
       "      <td>NaN</td>\n",
       "      <td>NaN</td>\n",
       "    </tr>\n",
       "    <tr>\n",
       "      <th>2013-11-01 02:00:00</th>\n",
       "      <td>1506248</td>\n",
       "      <td>1671298</td>\n",
       "      <td>Closed</td>\n",
       "      <td>540</td>\n",
       "      <td>95.0</td>\n",
       "      <td>2013-11-01 02:09:00</td>\n",
       "      <td>71.0</td>\n",
       "      <td>B00326</td>\n",
       "      <td>Registered</td>\n",
       "      <td>'02143</td>\n",
       "      <td>NaN</td>\n",
       "      <td>Male</td>\n",
       "    </tr>\n",
       "    <tr>\n",
       "      <th>2013-11-04 02:00:00</th>\n",
       "      <td>1517075</td>\n",
       "      <td>1682946</td>\n",
       "      <td>Closed</td>\n",
       "      <td>420</td>\n",
       "      <td>67.0</td>\n",
       "      <td>2013-11-04 02:07:00</td>\n",
       "      <td>88.0</td>\n",
       "      <td>B00670</td>\n",
       "      <td>Registered</td>\n",
       "      <td>'02143</td>\n",
       "      <td>NaN</td>\n",
       "      <td>Male</td>\n",
       "    </tr>\n",
       "    <tr>\n",
       "      <th>2013-11-06 02:00:00</th>\n",
       "      <td>1524326</td>\n",
       "      <td>1690593</td>\n",
       "      <td>Closed</td>\n",
       "      <td>600</td>\n",
       "      <td>29.0</td>\n",
       "      <td>2013-11-06 02:10:00</td>\n",
       "      <td>10.0</td>\n",
       "      <td>B00674</td>\n",
       "      <td>Registered</td>\n",
       "      <td>'02215</td>\n",
       "      <td>NaN</td>\n",
       "      <td>Male</td>\n",
       "    </tr>\n",
       "    <tr>\n",
       "      <th>2013-11-07 02:00:00</th>\n",
       "      <td>1528444</td>\n",
       "      <td>1694897</td>\n",
       "      <td>Closed</td>\n",
       "      <td>660</td>\n",
       "      <td>89.0</td>\n",
       "      <td>2013-11-07 02:11:00</td>\n",
       "      <td>89.0</td>\n",
       "      <td>T01051</td>\n",
       "      <td>Registered</td>\n",
       "      <td>'02115</td>\n",
       "      <td>NaN</td>\n",
       "      <td>Female</td>\n",
       "    </tr>\n",
       "    <tr>\n",
       "      <th>2013-11-09 02:00:00</th>\n",
       "      <td>1534848</td>\n",
       "      <td>1701688</td>\n",
       "      <td>Closed</td>\n",
       "      <td>120</td>\n",
       "      <td>20.0</td>\n",
       "      <td>2013-11-09 02:02:00</td>\n",
       "      <td>20.0</td>\n",
       "      <td>B00099</td>\n",
       "      <td>Registered</td>\n",
       "      <td>'02901</td>\n",
       "      <td>NaN</td>\n",
       "      <td>Male</td>\n",
       "    </tr>\n",
       "    <tr>\n",
       "      <th>2013-11-09 02:00:00</th>\n",
       "      <td>1534849</td>\n",
       "      <td>1701689</td>\n",
       "      <td>Closed</td>\n",
       "      <td>120</td>\n",
       "      <td>20.0</td>\n",
       "      <td>2013-11-09 02:02:00</td>\n",
       "      <td>20.0</td>\n",
       "      <td>T01089</td>\n",
       "      <td>Registered</td>\n",
       "      <td>'02138</td>\n",
       "      <td>NaN</td>\n",
       "      <td>Male</td>\n",
       "    </tr>\n",
       "    <tr>\n",
       "      <th>2013-11-09 02:00:00</th>\n",
       "      <td>1534850</td>\n",
       "      <td>1701690</td>\n",
       "      <td>Closed</td>\n",
       "      <td>180</td>\n",
       "      <td>54.0</td>\n",
       "      <td>2013-11-09 02:03:00</td>\n",
       "      <td>49.0</td>\n",
       "      <td>T01140</td>\n",
       "      <td>Registered</td>\n",
       "      <td>'02115</td>\n",
       "      <td>NaN</td>\n",
       "      <td>Male</td>\n",
       "    </tr>\n",
       "    <tr>\n",
       "      <th>2013-11-10 02:00:00</th>\n",
       "      <td>1537257</td>\n",
       "      <td>1704221</td>\n",
       "      <td>Closed</td>\n",
       "      <td>1620</td>\n",
       "      <td>58.0</td>\n",
       "      <td>2013-11-10 02:27:00</td>\n",
       "      <td>90.0</td>\n",
       "      <td>T01006</td>\n",
       "      <td>Casual</td>\n",
       "      <td>NaN</td>\n",
       "      <td>NaN</td>\n",
       "      <td>NaN</td>\n",
       "    </tr>\n",
       "    <tr>\n",
       "      <th>2013-11-17 02:00:00</th>\n",
       "      <td>1558389</td>\n",
       "      <td>1726420</td>\n",
       "      <td>Closed</td>\n",
       "      <td>780</td>\n",
       "      <td>75.0</td>\n",
       "      <td>2013-11-17 02:13:00</td>\n",
       "      <td>19.0</td>\n",
       "      <td>T01409</td>\n",
       "      <td>Casual</td>\n",
       "      <td>NaN</td>\n",
       "      <td>NaN</td>\n",
       "      <td>NaN</td>\n",
       "    </tr>\n",
       "    <tr>\n",
       "      <th>2013-11-23 02:00:00</th>\n",
       "      <td>1573136</td>\n",
       "      <td>1741854</td>\n",
       "      <td>Closed</td>\n",
       "      <td>600</td>\n",
       "      <td>41.0</td>\n",
       "      <td>2013-11-23 02:10:00</td>\n",
       "      <td>53.0</td>\n",
       "      <td>B00514</td>\n",
       "      <td>Registered</td>\n",
       "      <td>'02215</td>\n",
       "      <td>NaN</td>\n",
       "      <td>Male</td>\n",
       "    </tr>\n",
       "    <tr>\n",
       "      <th>2013-11-23 02:00:00</th>\n",
       "      <td>1573137</td>\n",
       "      <td>1741855</td>\n",
       "      <td>Closed</td>\n",
       "      <td>660</td>\n",
       "      <td>41.0</td>\n",
       "      <td>2013-11-23 02:11:00</td>\n",
       "      <td>53.0</td>\n",
       "      <td>B00267</td>\n",
       "      <td>Registered</td>\n",
       "      <td>'02215</td>\n",
       "      <td>NaN</td>\n",
       "      <td>Male</td>\n",
       "    </tr>\n",
       "    <tr>\n",
       "      <th>2013-11-28 02:00:00</th>\n",
       "      <td>1578374</td>\n",
       "      <td>1747354</td>\n",
       "      <td>Closed</td>\n",
       "      <td>420</td>\n",
       "      <td>137.0</td>\n",
       "      <td>2013-11-28 02:07:00</td>\n",
       "      <td>88.0</td>\n",
       "      <td>B00574</td>\n",
       "      <td>Registered</td>\n",
       "      <td>'02143</td>\n",
       "      <td>NaN</td>\n",
       "      <td>Male</td>\n",
       "    </tr>\n",
       "  </tbody>\n",
       "</table>\n",
       "<p>189 rows × 12 columns</p>\n",
       "</div>"
      ],
      "text/plain": [
       "                      seq_id  hubway_id  status  duration  strt_statn  \\\n",
       "start_date                                                              \n",
       "2011-07-31 02:00:00     1787       1983  Closed       258        45.0   \n",
       "2011-08-04 02:00:00     5151       5633  Closed       986        36.0   \n",
       "2011-08-07 02:00:00     9584      10516  Closed      1888        43.0   \n",
       "2011-08-12 02:00:00    14545      15961  Closed      3008        40.0   \n",
       "2011-08-17 02:00:00    20005      22121  Closed       144        45.0   \n",
       "2011-08-20 02:00:00    24121      26679  Closed      2295        36.0   \n",
       "2011-09-11 02:00:00    50327      57650  Closed       692        42.0   \n",
       "2011-09-11 02:00:00    50329      57652  Closed      1049        47.0   \n",
       "2011-09-11 02:00:00    50331      57654  Closed      1006        47.0   \n",
       "2011-09-11 02:00:00    50332      57655  Closed       784        44.0   \n",
       "2011-09-18 02:00:00    60945      69360  Closed      1547        23.0   \n",
       "2011-09-23 02:00:00    67596      76710  Closed       409        49.0   \n",
       "2011-09-23 02:00:00    67597      76711  Closed       183        27.0   \n",
       "2011-09-25 02:00:00    69872      79247  Closed       253        41.0   \n",
       "2011-10-07 02:00:00    85727      97021  Closed       309        33.0   \n",
       "2011-10-09 02:00:00    89292     100988  Closed       384        24.0   \n",
       "2011-10-09 02:00:00    89293     100989  Closed      1640        42.0   \n",
       "2011-10-16 02:00:00    99033     111871  Closed       878        55.0   \n",
       "2011-10-16 02:00:00    99035     111873  Closed      1501        47.0   \n",
       "2011-10-22 02:00:00   106616     120230  Closed       998        59.0   \n",
       "2011-10-29 02:00:00   113929     128357  Closed       341        54.0   \n",
       "2011-11-13 02:00:00   128157     144148  Closed       490        41.0   \n",
       "2011-11-20 02:00:00   134384     151086  Closed      1180        36.0   \n",
       "2011-11-20 02:00:00   134385     151087  Closed      1001        42.0   \n",
       "2011-11-20 02:00:00   134386     151088  Closed     35805        33.0   \n",
       "2011-11-20 02:00:00   134387     151089  Closed       695        58.0   \n",
       "2011-11-20 02:00:00   134388     151090  Closed     35768        33.0   \n",
       "2012-03-17 02:00:00   141168     158471  Closed         4        57.0   \n",
       "2012-04-07 02:00:00   162345     184223  Closed       534        52.0   \n",
       "2012-04-07 02:00:00   162346     184224  Closed       545        52.0   \n",
       "...                      ...        ...     ...       ...         ...   \n",
       "2013-10-03 02:00:00  1377875    1534750  Closed       360        67.0   \n",
       "2013-10-04 02:00:00  1383482    1540774  Closed      1260        53.0   \n",
       "2013-10-05 02:00:00  1388717    1546360  Closed       420        42.0   \n",
       "2013-10-05 02:00:00  1388718    1546361  Closed       540       113.0   \n",
       "2013-10-06 02:00:00  1393280    1551290  Closed      2040        69.0   \n",
       "2013-10-06 02:00:00  1393283    1551293  Closed       900        57.0   \n",
       "2013-10-06 02:00:00  1393285    1551295  Closed      1140        70.0   \n",
       "2013-10-06 02:00:00  1393286    1551296  Closed       600        52.0   \n",
       "2013-10-06 02:00:00  1393287    1551299  Closed       780        91.0   \n",
       "2013-10-08 02:00:00  1399089    1557453  Closed       780        75.0   \n",
       "2013-10-13 02:00:00  1422576    1582522  Closed       780       103.0   \n",
       "2013-10-13 02:00:00  1422577    1582523  Closed      1260        54.0   \n",
       "2013-10-20 02:00:00  1456535    1618791  Closed       540        99.0   \n",
       "2013-10-27 02:00:00  1487400    1651507  Closed       300        88.0   \n",
       "2013-10-29 02:00:00  1494242    1658631  Closed       300        80.0   \n",
       "2013-10-30 02:00:00  1498276    1662851  Closed       720       128.0   \n",
       "2013-10-31 02:00:00  1502420    1667267  Closed       600        42.0   \n",
       "2013-10-31 02:00:00  1502421    1667268  Closed       600        42.0   \n",
       "2013-11-01 02:00:00  1506248    1671298  Closed       540        95.0   \n",
       "2013-11-04 02:00:00  1517075    1682946  Closed       420        67.0   \n",
       "2013-11-06 02:00:00  1524326    1690593  Closed       600        29.0   \n",
       "2013-11-07 02:00:00  1528444    1694897  Closed       660        89.0   \n",
       "2013-11-09 02:00:00  1534848    1701688  Closed       120        20.0   \n",
       "2013-11-09 02:00:00  1534849    1701689  Closed       120        20.0   \n",
       "2013-11-09 02:00:00  1534850    1701690  Closed       180        54.0   \n",
       "2013-11-10 02:00:00  1537257    1704221  Closed      1620        58.0   \n",
       "2013-11-17 02:00:00  1558389    1726420  Closed       780        75.0   \n",
       "2013-11-23 02:00:00  1573136    1741854  Closed       600        41.0   \n",
       "2013-11-23 02:00:00  1573137    1741855  Closed       660        41.0   \n",
       "2013-11-28 02:00:00  1578374    1747354  Closed       420       137.0   \n",
       "\n",
       "                               end_date  end_statn bike_nr  subsc_type  \\\n",
       "start_date                                                               \n",
       "2011-07-31 02:00:00 2011-07-31 02:05:00       32.0  B00074  Registered   \n",
       "2011-08-04 02:00:00 2011-08-04 02:16:00       47.0  B00019  Registered   \n",
       "2011-08-07 02:00:00 2011-08-07 02:31:00       16.0  B00241      Casual   \n",
       "2011-08-12 02:00:00 2011-08-12 02:50:00       40.0  B00537      Casual   \n",
       "2011-08-17 02:00:00 2011-08-17 02:03:00       33.0  B00488  Registered   \n",
       "2011-08-20 02:00:00 2011-08-20 02:39:00       42.0  B00456      Casual   \n",
       "2011-09-11 02:00:00 2011-09-11 02:11:00       32.0  B00303      Casual   \n",
       "2011-09-11 02:00:00 2011-09-11 02:17:00       54.0  B00190      Casual   \n",
       "2011-09-11 02:00:00 2011-09-11 02:17:00       54.0  B00154      Casual   \n",
       "2011-09-11 02:00:00 2011-09-11 02:13:00       49.0  B00132  Registered   \n",
       "2011-09-18 02:00:00 2011-09-18 02:26:00       33.0  B00220      Casual   \n",
       "2011-09-23 02:00:00 2011-09-23 02:07:00       36.0  B00555      Casual   \n",
       "2011-09-23 02:00:00 2011-09-23 02:03:00       12.0  B00020      Casual   \n",
       "2011-09-25 02:00:00 2011-09-25 02:04:00        9.0  B00224  Registered   \n",
       "2011-10-07 02:00:00 2011-10-07 02:05:00       10.0  B00529      Casual   \n",
       "2011-10-09 02:00:00 2011-10-09 02:07:00       43.0  B00416      Casual   \n",
       "2011-10-09 02:00:00 2011-10-09 02:28:00        9.0  B00489      Casual   \n",
       "2011-10-16 02:00:00 2011-10-16 02:15:00       49.0  B00001      Casual   \n",
       "2011-10-16 02:00:00 2011-10-16 02:25:00       41.0  B00088      Casual   \n",
       "2011-10-22 02:00:00 2011-10-22 02:16:00       57.0  B00577      Casual   \n",
       "2011-10-29 02:00:00 2011-10-29 02:05:00        4.0  B00380  Registered   \n",
       "2011-11-13 02:00:00 2011-11-13 02:08:00       33.0  B00341  Registered   \n",
       "2011-11-20 02:00:00 2011-11-20 02:19:00        9.0  B00062      Casual   \n",
       "2011-11-20 02:00:00 2011-11-20 02:16:00       64.0  B00042      Casual   \n",
       "2011-11-20 02:00:00 2011-11-20 11:56:00       41.0  B00311      Casual   \n",
       "2011-11-20 02:00:00 2011-11-20 02:11:00       33.0  B00404  Registered   \n",
       "2011-11-20 02:00:00 2011-11-20 11:56:00       41.0  B00210      Casual   \n",
       "2012-03-17 02:00:00 2012-03-17 02:00:00       57.0  B00005  Registered   \n",
       "2012-04-07 02:00:00 2012-04-07 02:09:00        9.0  B00101      Casual   \n",
       "2012-04-07 02:00:00 2012-04-07 02:09:00        9.0  B00348      Casual   \n",
       "...                                 ...        ...     ...         ...   \n",
       "2013-10-03 02:00:00 2013-10-03 02:06:00       53.0  B00550  Registered   \n",
       "2013-10-04 02:00:00 2013-10-04 02:21:00       36.0  B00375  Registered   \n",
       "2013-10-05 02:00:00 2013-10-05 02:07:00      103.0  T01077  Registered   \n",
       "2013-10-05 02:00:00 2013-10-05 02:09:00       75.0  B00580  Registered   \n",
       "2013-10-06 02:00:00 2013-10-06 02:34:00      137.0  T01203      Casual   \n",
       "2013-10-06 02:00:00 2013-10-06 02:15:00       67.0  B00446      Casual   \n",
       "2013-10-06 02:00:00 2013-10-06 02:19:00        6.0  T01066  Registered   \n",
       "2013-10-06 02:00:00 2013-10-06 02:10:00       68.0  B00129  Registered   \n",
       "2013-10-06 02:00:00 2013-10-06 02:13:00        9.0  B00543  Registered   \n",
       "2013-10-08 02:00:00 2013-10-08 02:13:00      138.0  B00222  Registered   \n",
       "2013-10-13 02:00:00 2013-10-13 02:13:00       96.0  B00104      Casual   \n",
       "2013-10-13 02:00:00 2013-10-13 02:21:00       67.0  B00429      Casual   \n",
       "2013-10-20 02:00:00 2013-10-20 02:09:00       22.0  B00536      Casual   \n",
       "2013-10-27 02:00:00 2013-10-27 02:05:00       78.0  B00042  Registered   \n",
       "2013-10-29 02:00:00 2013-10-29 02:05:00       68.0  B00487  Registered   \n",
       "2013-10-30 02:00:00 2013-10-30 02:12:00       79.0  T01446  Registered   \n",
       "2013-10-31 02:00:00 2013-10-31 02:10:00       52.0  T01130      Casual   \n",
       "2013-10-31 02:00:00 2013-10-31 02:10:00       52.0  B00327      Casual   \n",
       "2013-11-01 02:00:00 2013-11-01 02:09:00       71.0  B00326  Registered   \n",
       "2013-11-04 02:00:00 2013-11-04 02:07:00       88.0  B00670  Registered   \n",
       "2013-11-06 02:00:00 2013-11-06 02:10:00       10.0  B00674  Registered   \n",
       "2013-11-07 02:00:00 2013-11-07 02:11:00       89.0  T01051  Registered   \n",
       "2013-11-09 02:00:00 2013-11-09 02:02:00       20.0  B00099  Registered   \n",
       "2013-11-09 02:00:00 2013-11-09 02:02:00       20.0  T01089  Registered   \n",
       "2013-11-09 02:00:00 2013-11-09 02:03:00       49.0  T01140  Registered   \n",
       "2013-11-10 02:00:00 2013-11-10 02:27:00       90.0  T01006      Casual   \n",
       "2013-11-17 02:00:00 2013-11-17 02:13:00       19.0  T01409      Casual   \n",
       "2013-11-23 02:00:00 2013-11-23 02:10:00       53.0  B00514  Registered   \n",
       "2013-11-23 02:00:00 2013-11-23 02:11:00       53.0  B00267  Registered   \n",
       "2013-11-28 02:00:00 2013-11-28 02:07:00       88.0  B00574  Registered   \n",
       "\n",
       "                    zip_code  birth_date  gender  \n",
       "start_date                                        \n",
       "2011-07-31 02:00:00   '02215      1981.0    Male  \n",
       "2011-08-04 02:00:00   '02113      1970.0    Male  \n",
       "2011-08-07 02:00:00      NaN         NaN     NaN  \n",
       "2011-08-12 02:00:00      NaN         NaN     NaN  \n",
       "2011-08-17 02:00:00   '02215      1979.0    Male  \n",
       "2011-08-20 02:00:00      NaN         NaN     NaN  \n",
       "2011-09-11 02:00:00      NaN         NaN     NaN  \n",
       "2011-09-11 02:00:00      NaN         NaN     NaN  \n",
       "2011-09-11 02:00:00      NaN         NaN     NaN  \n",
       "2011-09-11 02:00:00   '02118      1987.0    Male  \n",
       "2011-09-18 02:00:00      NaN         NaN     NaN  \n",
       "2011-09-23 02:00:00      NaN         NaN     NaN  \n",
       "2011-09-23 02:00:00      NaN         NaN     NaN  \n",
       "2011-09-25 02:00:00   '02139      1982.0    Male  \n",
       "2011-10-07 02:00:00      NaN         NaN     NaN  \n",
       "2011-10-09 02:00:00      NaN         NaN     NaN  \n",
       "2011-10-09 02:00:00      NaN         NaN     NaN  \n",
       "2011-10-16 02:00:00      NaN         NaN     NaN  \n",
       "2011-10-16 02:00:00      NaN         NaN     NaN  \n",
       "2011-10-22 02:00:00      NaN         NaN     NaN  \n",
       "2011-10-29 02:00:00   '02118      1976.0    Male  \n",
       "2011-11-13 02:00:00   '02215      1990.0    Male  \n",
       "2011-11-20 02:00:00      NaN         NaN     NaN  \n",
       "2011-11-20 02:00:00      NaN         NaN     NaN  \n",
       "2011-11-20 02:00:00      NaN         NaN     NaN  \n",
       "2011-11-20 02:00:00   '02215      1989.0    Male  \n",
       "2011-11-20 02:00:00      NaN         NaN     NaN  \n",
       "2012-03-17 02:00:00   '02118      1971.0    Male  \n",
       "2012-04-07 02:00:00      NaN         NaN     NaN  \n",
       "2012-04-07 02:00:00      NaN         NaN     NaN  \n",
       "...                      ...         ...     ...  \n",
       "2013-10-03 02:00:00   '02215         NaN    Male  \n",
       "2013-10-04 02:00:00   '02215         NaN    Male  \n",
       "2013-10-05 02:00:00   '02115         NaN    Male  \n",
       "2013-10-05 02:00:00   '02139         NaN    Male  \n",
       "2013-10-06 02:00:00      NaN         NaN     NaN  \n",
       "2013-10-06 02:00:00      NaN         NaN     NaN  \n",
       "2013-10-06 02:00:00   '02114         NaN    Male  \n",
       "2013-10-06 02:00:00   '02139         NaN    Male  \n",
       "2013-10-06 02:00:00   '02114         NaN    Male  \n",
       "2013-10-08 02:00:00   '02143         NaN  Female  \n",
       "2013-10-13 02:00:00      NaN         NaN     NaN  \n",
       "2013-10-13 02:00:00      NaN         NaN     NaN  \n",
       "2013-10-20 02:00:00      NaN         NaN     NaN  \n",
       "2013-10-27 02:00:00   '02145         NaN    Male  \n",
       "2013-10-29 02:00:00   '02139         NaN    Male  \n",
       "2013-10-30 02:00:00   '02143         NaN    Male  \n",
       "2013-10-31 02:00:00      NaN         NaN     NaN  \n",
       "2013-10-31 02:00:00      NaN         NaN     NaN  \n",
       "2013-11-01 02:00:00   '02143         NaN    Male  \n",
       "2013-11-04 02:00:00   '02143         NaN    Male  \n",
       "2013-11-06 02:00:00   '02215         NaN    Male  \n",
       "2013-11-07 02:00:00   '02115         NaN  Female  \n",
       "2013-11-09 02:00:00   '02901         NaN    Male  \n",
       "2013-11-09 02:00:00   '02138         NaN    Male  \n",
       "2013-11-09 02:00:00   '02115         NaN    Male  \n",
       "2013-11-10 02:00:00      NaN         NaN     NaN  \n",
       "2013-11-17 02:00:00      NaN         NaN     NaN  \n",
       "2013-11-23 02:00:00   '02215         NaN    Male  \n",
       "2013-11-23 02:00:00   '02215         NaN    Male  \n",
       "2013-11-28 02:00:00   '02143         NaN    Male  \n",
       "\n",
       "[189 rows x 12 columns]"
      ]
     },
     "execution_count": 78,
     "metadata": {},
     "output_type": "execute_result"
    }
   ],
   "source": [
    "rentals_2H"
   ]
  },
  {
   "cell_type": "code",
   "execution_count": 79,
   "metadata": {},
   "outputs": [],
   "source": [
    "rentals_2H = rentals_2H.groupby('birth_date').count()"
   ]
  },
  {
   "cell_type": "code",
   "execution_count": 80,
   "metadata": {},
   "outputs": [],
   "source": [
    "rentals_2H = rentals_2H['duration']"
   ]
  },
  {
   "cell_type": "code",
   "execution_count": 87,
   "metadata": {},
   "outputs": [
    {
     "data": {
      "text/plain": [
       "6"
      ]
     },
     "execution_count": 87,
     "metadata": {},
     "output_type": "execute_result"
    }
   ],
   "source": [
    "rentals_2H = rentals_2H.rename('Trips')\n",
    "\n",
    "#People that are older than 25 taking trips at 2AM\n",
    "\n",
    "rentals_2H[rentals_2H.index > 1988].sum()"
   ]
  },
  {
   "cell_type": "markdown",
   "metadata": {},
   "source": [
    "#### Are all of the Hubway rentals at 2:00am by people under 25?\n",
    "\n",
    "# Conclusion\n",
    "\n",
    "(With respect to the year 2013) Even without having the birthdate of Non-Registered users, I can say that no. 6 of the registered users that took trips were at least older than 25. Now, that number might not be exact since im not taking into consideration which day/year the trip was taken, rather which hour."
   ]
  },
  {
   "cell_type": "code",
   "execution_count": 104,
   "metadata": {},
   "outputs": [],
   "source": [
    "#Setting gender and station as indexes and aggregating by number of trips taken\n",
    "\n",
    "Gender_Stations = Trips.groupby(['gender', 'strt_statn']).aggregate(aggregator)"
   ]
  },
  {
   "cell_type": "code",
   "execution_count": 106,
   "metadata": {},
   "outputs": [],
   "source": [
    "Gender_Stations = Gender_Stations.rename(columns = {'duration':'Trips'})"
   ]
  },
  {
   "cell_type": "code",
   "execution_count": 112,
   "metadata": {},
   "outputs": [
    {
     "data": {
      "text/html": [
       "<div>\n",
       "<style scoped>\n",
       "    .dataframe tbody tr th:only-of-type {\n",
       "        vertical-align: middle;\n",
       "    }\n",
       "\n",
       "    .dataframe tbody tr th {\n",
       "        vertical-align: top;\n",
       "    }\n",
       "\n",
       "    .dataframe thead th {\n",
       "        text-align: right;\n",
       "    }\n",
       "</style>\n",
       "<table border=\"1\" class=\"dataframe\">\n",
       "  <thead>\n",
       "    <tr style=\"text-align: right;\">\n",
       "      <th></th>\n",
       "      <th>Trips</th>\n",
       "    </tr>\n",
       "    <tr>\n",
       "      <th>strt_statn</th>\n",
       "      <th></th>\n",
       "    </tr>\n",
       "  </thead>\n",
       "  <tbody>\n",
       "    <tr>\n",
       "      <th>22.0</th>\n",
       "      <td>9053</td>\n",
       "    </tr>\n",
       "    <tr>\n",
       "      <th>16.0</th>\n",
       "      <td>6329</td>\n",
       "    </tr>\n",
       "    <tr>\n",
       "      <th>53.0</th>\n",
       "      <td>6308</td>\n",
       "    </tr>\n",
       "    <tr>\n",
       "      <th>36.0</th>\n",
       "      <td>6300</td>\n",
       "    </tr>\n",
       "    <tr>\n",
       "      <th>40.0</th>\n",
       "      <td>5614</td>\n",
       "    </tr>\n",
       "  </tbody>\n",
       "</table>\n",
       "</div>"
      ],
      "text/plain": [
       "            Trips\n",
       "strt_statn       \n",
       "22.0         9053\n",
       "16.0         6329\n",
       "53.0         6308\n",
       "36.0         6300\n",
       "40.0         5614"
      ]
     },
     "execution_count": 112,
     "metadata": {},
     "output_type": "execute_result"
    }
   ],
   "source": [
    "Gender_Stations.loc['Female',:].sort_values(by='Trips', ascending=0).head()"
   ]
  },
  {
   "cell_type": "code",
   "execution_count": 113,
   "metadata": {},
   "outputs": [
    {
     "data": {
      "text/html": [
       "<div>\n",
       "<style scoped>\n",
       "    .dataframe tbody tr th:only-of-type {\n",
       "        vertical-align: middle;\n",
       "    }\n",
       "\n",
       "    .dataframe tbody tr th {\n",
       "        vertical-align: top;\n",
       "    }\n",
       "\n",
       "    .dataframe thead th {\n",
       "        text-align: right;\n",
       "    }\n",
       "</style>\n",
       "<table border=\"1\" class=\"dataframe\">\n",
       "  <thead>\n",
       "    <tr style=\"text-align: right;\">\n",
       "      <th></th>\n",
       "      <th>Trips</th>\n",
       "    </tr>\n",
       "    <tr>\n",
       "      <th>strt_statn</th>\n",
       "      <th></th>\n",
       "    </tr>\n",
       "  </thead>\n",
       "  <tbody>\n",
       "    <tr>\n",
       "      <th>22.0</th>\n",
       "      <td>37103</td>\n",
       "    </tr>\n",
       "    <tr>\n",
       "      <th>16.0</th>\n",
       "      <td>20761</td>\n",
       "    </tr>\n",
       "    <tr>\n",
       "      <th>67.0</th>\n",
       "      <td>19746</td>\n",
       "    </tr>\n",
       "    <tr>\n",
       "      <th>36.0</th>\n",
       "      <td>18722</td>\n",
       "    </tr>\n",
       "    <tr>\n",
       "      <th>53.0</th>\n",
       "      <td>17875</td>\n",
       "    </tr>\n",
       "  </tbody>\n",
       "</table>\n",
       "</div>"
      ],
      "text/plain": [
       "            Trips\n",
       "strt_statn       \n",
       "22.0        37103\n",
       "16.0        20761\n",
       "67.0        19746\n",
       "36.0        18722\n",
       "53.0        17875"
      ]
     },
     "execution_count": 113,
     "metadata": {},
     "output_type": "execute_result"
    }
   ],
   "source": [
    "Gender_Stations.loc['Male',:].sort_values(by='Trips', ascending=0).head()"
   ]
  },
  {
   "cell_type": "code",
   "execution_count": null,
   "metadata": {},
   "outputs": [],
   "source": []
  }
 ],
 "metadata": {
  "kernelspec": {
   "display_name": "Python 3",
   "language": "python",
   "name": "python3"
  },
  "language_info": {
   "codemirror_mode": {
    "name": "ipython",
    "version": 3
   },
   "file_extension": ".py",
   "mimetype": "text/x-python",
   "name": "python",
   "nbconvert_exporter": "python",
   "pygments_lexer": "ipython3",
   "version": "3.7.3"
  }
 },
 "nbformat": 4,
 "nbformat_minor": 2
}
